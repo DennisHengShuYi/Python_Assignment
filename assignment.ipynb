{
 "cells": [
  {
   "cell_type": "markdown",
   "id": "dc3d254f-33ff-431b-9968-d7665bcacc27",
   "metadata": {},
   "source": [
    "## 1. Introduction to Memecoins:"
   ]
  },
  {
   "cell_type": "markdown",
   "id": "6e2c2114-50d7-4911-8bda-f948fc37e864",
   "metadata": {},
   "source": [
    "Memecoins are a unique category of cryptocurrencies that are often created as a joke or based on internet memes. They typically don’t have a serious use case or technological innovation behind them, but they often gain popularity due to viral internet trends, celebrity endorsements, or active communities. While some memecoins are created purely for fun, others can achieve significant market value, attracting investors and enthusiasts looking for short-term gains or novelty."
   ]
  },
  {
   "cell_type": "markdown",
   "id": "be9d7e87-cdfb-4f6a-a1ed-9dbc0f9a4f44",
   "metadata": {},
   "source": [
    "Memecoins have gained popularity for several reasons, primarily due to the influence of community-driven efforts and social media. Internet culture, including viral content and memes, plays a significant role in their rise. Platforms like Twitter, Reddit, and Discord have become key spaces where users promote their favorite memecoins, often relying on humor and collective enthusiasm to generate excitement. These communities are highly engaged and help maintain momentum by sharing memes, creating buzz, and encouraging others to get involved, often without the backing of traditional marketing efforts. Additionally, celebrity endorsements and media coverage have amplified the popularity of memecoins. High-profile figures like Elon Musk, with his frequent tweets about Dogecoin, have caused significant price surges and drawn mainstream attention. As a result, memecoins like Dogecoin and Shiba Inu often find themselves in the media spotlight, attracting new investors. Furthermore, the speculative nature of memecoins has made them highly appealing to traders looking for quick profits. Their volatility offers opportunities for short-term gains, while their low entry costs make them accessible to a broader audience, including those new to cryptocurrency. This combination of community engagement, celebrity endorsements, and speculative interest has contributed to the meteoric rise of memecoins in the cryptocurrency market."
   ]
  },
  {
   "cell_type": "markdown",
   "id": "1b71b3cd-1b4a-47c5-b8f3-20c6bf503634",
   "metadata": {},
   "source": [
    "## 2. Data Collection & Preprocessing:"
   ]
  },
  {
   "cell_type": "code",
   "execution_count": 15,
   "id": "5cec4d80-d9ad-459c-8ce7-120abc77ef33",
   "metadata": {
    "collapsed": true,
    "jupyter": {
     "outputs_hidden": true
    }
   },
   "outputs": [
    {
     "name": "stdout",
     "output_type": "stream",
     "text": [
      "Requirement already satisfied: requests in c:\\users\\den51\\anaconda3\\envs\\wif3009\\lib\\site-packages (2.32.3)\n",
      "Requirement already satisfied: charset-normalizer<4,>=2 in c:\\users\\den51\\anaconda3\\envs\\wif3009\\lib\\site-packages (from requests) (3.4.1)\n",
      "Requirement already satisfied: idna<4,>=2.5 in c:\\users\\den51\\anaconda3\\envs\\wif3009\\lib\\site-packages (from requests) (3.10)\n",
      "Requirement already satisfied: urllib3<3,>=1.21.1 in c:\\users\\den51\\anaconda3\\envs\\wif3009\\lib\\site-packages (from requests) (2.3.0)\n",
      "Requirement already satisfied: certifi>=2017.4.17 in c:\\users\\den51\\anaconda3\\envs\\wif3009\\lib\\site-packages (from requests) (2025.1.31)\n",
      "Requirement already satisfied: tweepy in c:\\users\\den51\\anaconda3\\envs\\wif3009\\lib\\site-packages (4.15.0)\n",
      "Requirement already satisfied: oauthlib<4,>=3.2.0 in c:\\users\\den51\\anaconda3\\envs\\wif3009\\lib\\site-packages (from tweepy) (3.2.2)\n",
      "Requirement already satisfied: requests<3,>=2.27.0 in c:\\users\\den51\\anaconda3\\envs\\wif3009\\lib\\site-packages (from tweepy) (2.32.3)\n",
      "Requirement already satisfied: requests-oauthlib<3,>=1.2.0 in c:\\users\\den51\\anaconda3\\envs\\wif3009\\lib\\site-packages (from tweepy) (2.0.0)\n",
      "Requirement already satisfied: charset-normalizer<4,>=2 in c:\\users\\den51\\anaconda3\\envs\\wif3009\\lib\\site-packages (from requests<3,>=2.27.0->tweepy) (3.4.1)\n",
      "Requirement already satisfied: idna<4,>=2.5 in c:\\users\\den51\\anaconda3\\envs\\wif3009\\lib\\site-packages (from requests<3,>=2.27.0->tweepy) (3.10)\n",
      "Requirement already satisfied: urllib3<3,>=1.21.1 in c:\\users\\den51\\anaconda3\\envs\\wif3009\\lib\\site-packages (from requests<3,>=2.27.0->tweepy) (2.3.0)\n",
      "Requirement already satisfied: certifi>=2017.4.17 in c:\\users\\den51\\anaconda3\\envs\\wif3009\\lib\\site-packages (from requests<3,>=2.27.0->tweepy) (2025.1.31)\n",
      "Requirement already satisfied: tweepy in c:\\users\\den51\\anaconda3\\envs\\wif3009\\lib\\site-packages (4.15.0)\n",
      "Requirement already satisfied: oauthlib<4,>=3.2.0 in c:\\users\\den51\\anaconda3\\envs\\wif3009\\lib\\site-packages (from tweepy) (3.2.2)\n",
      "Requirement already satisfied: requests<3,>=2.27.0 in c:\\users\\den51\\anaconda3\\envs\\wif3009\\lib\\site-packages (from tweepy) (2.32.3)\n",
      "Requirement already satisfied: requests-oauthlib<3,>=1.2.0 in c:\\users\\den51\\anaconda3\\envs\\wif3009\\lib\\site-packages (from tweepy) (2.0.0)\n",
      "Requirement already satisfied: charset-normalizer<4,>=2 in c:\\users\\den51\\anaconda3\\envs\\wif3009\\lib\\site-packages (from requests<3,>=2.27.0->tweepy) (3.4.1)\n",
      "Requirement already satisfied: idna<4,>=2.5 in c:\\users\\den51\\anaconda3\\envs\\wif3009\\lib\\site-packages (from requests<3,>=2.27.0->tweepy) (3.10)\n",
      "Requirement already satisfied: urllib3<3,>=1.21.1 in c:\\users\\den51\\anaconda3\\envs\\wif3009\\lib\\site-packages (from requests<3,>=2.27.0->tweepy) (2.3.0)\n",
      "Requirement already satisfied: certifi>=2017.4.17 in c:\\users\\den51\\anaconda3\\envs\\wif3009\\lib\\site-packages (from requests<3,>=2.27.0->tweepy) (2025.1.31)\n"
     ]
    }
   ],
   "source": [
    "!pip install requests\n",
    "!pip install tweepy\n",
    "!pip install tweepy --upgrade"
   ]
  },
  {
   "cell_type": "markdown",
   "id": "5c078dd8-5096-4343-bebf-4d4cee6e82cd",
   "metadata": {},
   "source": [
    "***Collect Data***"
   ]
  },
  {
   "cell_type": "code",
   "execution_count": 1,
   "id": "7fecf465-6672-4a05-af56-d97504c597c3",
   "metadata": {},
   "outputs": [],
   "source": [
    "import requests\n",
    "import tweepy\n",
    "import pandas as pd\n",
    "import datetime"
   ]
  },
  {
   "cell_type": "code",
   "execution_count": 45,
   "id": "cad41f31-1246-496e-96ce-dda837985083",
   "metadata": {
    "collapsed": true,
    "jupyter": {
     "outputs_hidden": true
    }
   },
   "outputs": [
    {
     "name": "stdout",
     "output_type": "stream",
     "text": [
      "Collecting pycoingecko\n",
      "  Downloading pycoingecko-3.2.0-py3-none-any.whl.metadata (16 kB)\n",
      "Requirement already satisfied: requests in c:\\users\\den51\\anaconda3\\envs\\wif3009\\lib\\site-packages (from pycoingecko) (2.32.3)\n",
      "Requirement already satisfied: charset-normalizer<4,>=2 in c:\\users\\den51\\anaconda3\\envs\\wif3009\\lib\\site-packages (from requests->pycoingecko) (3.4.1)\n",
      "Requirement already satisfied: idna<4,>=2.5 in c:\\users\\den51\\anaconda3\\envs\\wif3009\\lib\\site-packages (from requests->pycoingecko) (3.10)\n",
      "Requirement already satisfied: urllib3<3,>=1.21.1 in c:\\users\\den51\\anaconda3\\envs\\wif3009\\lib\\site-packages (from requests->pycoingecko) (2.3.0)\n",
      "Requirement already satisfied: certifi>=2017.4.17 in c:\\users\\den51\\anaconda3\\envs\\wif3009\\lib\\site-packages (from requests->pycoingecko) (2025.1.31)\n",
      "Downloading pycoingecko-3.2.0-py3-none-any.whl (10 kB)\n",
      "Installing collected packages: pycoingecko\n",
      "Successfully installed pycoingecko-3.2.0\n"
     ]
    }
   ],
   "source": [
    "! pip install pycoingecko"
   ]
  },
  {
   "cell_type": "code",
   "execution_count": 17,
   "id": "7dfcea64-af02-429e-8162-3955acd5bfa7",
   "metadata": {
    "collapsed": true,
    "jupyter": {
     "outputs_hidden": true,
     "source_hidden": true
    }
   },
   "outputs": [
    {
     "name": "stdout",
     "output_type": "stream",
     "text": [
      "Bitcoin price in USD: $91316\n"
     ]
    }
   ],
   "source": [
    "# Define the API URL for Bitcoin price in USD\n",
    "url = 'https://api.coingecko.com/api/v3/simple/price?ids=bitcoin&vs_currencies=usd'\n",
    "\n",
    "# Send the GET request to the API\n",
    "response = requests.get(url)\n",
    "\n",
    "# Check if the response was successful (status code 200)\n",
    "if response.status_code == 200:\n",
    "    # Parse the response as JSON\n",
    "    data = response.json()\n",
    "    # Extract Bitcoin price\n",
    "    bitcoin_price = data['bitcoin']['usd']\n",
    "    print(f\"Bitcoin price in USD: ${bitcoin_price}\")\n",
    "else:\n",
    "    print(\"Failed to fetch data from CoinGecko API\")\n"
   ]
  },
  {
   "cell_type": "code",
   "execution_count": 62,
   "id": "d877a54b-ab1a-43f4-a41c-70104508438f",
   "metadata": {
    "collapsed": true,
    "jupyter": {
     "outputs_hidden": true
    }
   },
   "outputs": [
    {
     "name": "stdout",
     "output_type": "stream",
     "text": [
      "\n",
      "Dogecoin Historical Data with Added Attributes (Head):\n",
      "                         Price_USD Symbol      Name  Market_Cap_USD  \\\n",
      "Timestamp                                                             \n",
      "2025-03-24 04:04:57.223   0.171093   DOGE  Dogecoin    2.541479e+10   \n",
      "2025-03-24 05:04:49.307   0.170753   DOGE  Dogecoin    2.537969e+10   \n",
      "2025-03-24 06:04:46.835   0.171215   DOGE  Dogecoin    2.537855e+10   \n",
      "2025-03-24 07:04:48.788   0.171129   DOGE  Dogecoin    2.540920e+10   \n",
      "2025-03-24 08:05:59.243   0.172725   DOGE  Dogecoin    2.564956e+10   \n",
      "\n",
      "                         Total_Volume_USD  Market_Cap_Rank Total_Supply  \\\n",
      "Timestamp                                                                 \n",
      "2025-03-24 04:04:57.223      5.554872e+08                8         None   \n",
      "2025-03-24 05:04:49.307      5.276828e+08                8         None   \n",
      "2025-03-24 06:04:46.835      5.282496e+08                8         None   \n",
      "2025-03-24 07:04:48.788      5.762943e+08                8         None   \n",
      "2025-03-24 08:05:59.243      5.759842e+08                8         None   \n",
      "\n",
      "                        Circulating_Supply  All_Time_High_USD  \\\n",
      "Timestamp                                                       \n",
      "2025-03-24 04:04:57.223               None           0.731578   \n",
      "2025-03-24 05:04:49.307               None           0.731578   \n",
      "2025-03-24 06:04:46.835               None           0.731578   \n",
      "2025-03-24 07:04:48.788               None           0.731578   \n",
      "2025-03-24 08:05:59.243               None           0.731578   \n",
      "\n",
      "                               All_Time_High_Date  Price_Change_24h  \\\n",
      "Timestamp                                                             \n",
      "2025-03-24 04:04:57.223  2021-05-08T05:08:23.458Z          0.013939   \n",
      "2025-03-24 05:04:49.307  2021-05-08T05:08:23.458Z          0.013939   \n",
      "2025-03-24 06:04:46.835  2021-05-08T05:08:23.458Z          0.013939   \n",
      "2025-03-24 07:04:48.788  2021-05-08T05:08:23.458Z          0.013939   \n",
      "2025-03-24 08:05:59.243  2021-05-08T05:08:23.458Z          0.013939   \n",
      "\n",
      "                         Price_Change_Percentage_24h  Market_Cap_Change_24h  \\\n",
      "Timestamp                                                                     \n",
      "2025-03-24 04:04:57.223                      8.82423             2155763036   \n",
      "2025-03-24 05:04:49.307                      8.82423             2155763036   \n",
      "2025-03-24 06:04:46.835                      8.82423             2155763036   \n",
      "2025-03-24 07:04:48.788                      8.82423             2155763036   \n",
      "2025-03-24 08:05:59.243                      8.82423             2155763036   \n",
      "\n",
      "                         Market_Cap_Change_Percentage_24h  \n",
      "Timestamp                                                  \n",
      "2025-03-24 04:04:57.223                           9.19409  \n",
      "2025-03-24 05:04:49.307                           9.19409  \n",
      "2025-03-24 06:04:46.835                           9.19409  \n",
      "2025-03-24 07:04:48.788                           9.19409  \n",
      "2025-03-24 08:05:59.243                           9.19409  \n",
      "\n",
      "Shiba Inu Historical Data with Added Attributes (Head):\n",
      "                         Price_USD Symbol       Name  Market_Cap_USD  \\\n",
      "Timestamp                                                              \n",
      "2025-03-24 04:04:33.924   0.000013   SHIB  Shiba Inu    7.581288e+09   \n",
      "2025-03-24 05:04:55.022   0.000013   SHIB  Shiba Inu    7.579552e+09   \n",
      "2025-03-24 06:04:38.815   0.000013   SHIB  Shiba Inu    7.589653e+09   \n",
      "2025-03-24 07:04:45.653   0.000013   SHIB  Shiba Inu    7.590075e+09   \n",
      "2025-03-24 08:05:00.058   0.000013   SHIB  Shiba Inu    7.620221e+09   \n",
      "\n",
      "                         Total_Volume_USD  Market_Cap_Rank Total_Supply  \\\n",
      "Timestamp                                                                 \n",
      "2025-03-24 04:04:33.924      1.082879e+08               18         None   \n",
      "2025-03-24 05:04:55.022      1.080121e+08               18         None   \n",
      "2025-03-24 06:04:38.815      1.076240e+08               18         None   \n",
      "2025-03-24 07:04:45.653      1.104171e+08               18         None   \n",
      "2025-03-24 08:05:00.058      1.193618e+08               18         None   \n",
      "\n",
      "                        Circulating_Supply  All_Time_High_USD  \\\n",
      "Timestamp                                                       \n",
      "2025-03-24 04:04:33.924               None           0.000086   \n",
      "2025-03-24 05:04:55.022               None           0.000086   \n",
      "2025-03-24 06:04:38.815               None           0.000086   \n",
      "2025-03-24 07:04:45.653               None           0.000086   \n",
      "2025-03-24 08:05:00.058               None           0.000086   \n",
      "\n",
      "                               All_Time_High_Date  Price_Change_24h  \\\n",
      "Timestamp                                                             \n",
      "2025-03-24 04:04:33.924  2021-10-28T03:54:55.568Z      7.833470e-07   \n",
      "2025-03-24 05:04:55.022  2021-10-28T03:54:55.568Z      7.833470e-07   \n",
      "2025-03-24 06:04:38.815  2021-10-28T03:54:55.568Z      7.833470e-07   \n",
      "2025-03-24 07:04:45.653  2021-10-28T03:54:55.568Z      7.833470e-07   \n",
      "2025-03-24 08:05:00.058  2021-10-28T03:54:55.568Z      7.833470e-07   \n",
      "\n",
      "                         Price_Change_Percentage_24h  Market_Cap_Change_24h  \\\n",
      "Timestamp                                                                     \n",
      "2025-03-24 04:04:33.924                      6.31742              482636883   \n",
      "2025-03-24 05:04:55.022                      6.31742              482636883   \n",
      "2025-03-24 06:04:38.815                      6.31742              482636883   \n",
      "2025-03-24 07:04:45.653                      6.31742              482636883   \n",
      "2025-03-24 08:05:00.058                      6.31742              482636883   \n",
      "\n",
      "                         Market_Cap_Change_Percentage_24h  \n",
      "Timestamp                                                  \n",
      "2025-03-24 04:04:33.924                           6.62083  \n",
      "2025-03-24 05:04:55.022                           6.62083  \n",
      "2025-03-24 06:04:38.815                           6.62083  \n",
      "2025-03-24 07:04:45.653                           6.62083  \n",
      "2025-03-24 08:05:00.058                           6.62083  \n"
     ]
    }
   ],
   "source": [
    "from pycoingecko import CoinGeckoAPI\n",
    "import pandas as pd\n",
    "import datetime\n",
    "\n",
    "cg = CoinGeckoAPI()\n",
    "currency = 'usd'\n",
    "days = '30'\n",
    "coin_ids = ['dogecoin', 'shiba-inu']\n",
    "dfs = {}  # Dictionary to store DataFrames\n",
    "\n",
    "for coin_id in coin_ids:\n",
    "    historical_data = cg.get_coin_market_chart_by_id(id=coin_id, vs_currency=currency, days=days)\n",
    "    coin_details = cg.get_coin_by_id(id=coin_id)\n",
    "    market_data = coin_details.get('market_data', {})\n",
    "\n",
    "    if 'prices' in historical_data and coin_details:\n",
    "        prices_list = historical_data['prices']\n",
    "        df = pd.DataFrame(prices_list, columns=['Timestamp_ms', 'Price_USD'])\n",
    "        df['Timestamp'] = df['Timestamp_ms'].apply(lambda ms: datetime.datetime.fromtimestamp(ms / 1000))\n",
    "        df.set_index('Timestamp', inplace=True)\n",
    "        df.drop(columns=['Timestamp_ms'], inplace=True)\n",
    "\n",
    "        # Add more attributes from coin_details and historical data\n",
    "        df['Symbol'] = coin_details.get('symbol', '').upper()\n",
    "        df['Name'] = coin_details.get('name', '')\n",
    "        df['Market_Cap_USD'] = [item[1] for item in historical_data.get('market_caps', [])]\n",
    "        df['Total_Volume_USD'] = [item[1] for item in historical_data.get('total_volumes', [])]\n",
    "        df['Market_Cap_Rank'] = coin_details.get('market_cap_rank')\n",
    "        df['Total_Supply'] = coin_details.get('total_supply')\n",
    "        df['Circulating_Supply'] = coin_details.get('circulating_supply')\n",
    "        df['All_Time_High_USD'] = market_data.get('ath', {}).get('usd')\n",
    "        df['All_Time_High_Date'] = market_data.get('ath_date', {}).get('usd')\n",
    "        df['Price_Change_24h'] = market_data.get('price_change_24h')\n",
    "        df['Price_Change_Percentage_24h'] = market_data.get('price_change_percentage_24h')\n",
    "        df['Market_Cap_Change_24h'] = market_data.get('market_cap_change_24h')\n",
    "        df['Market_Cap_Change_Percentage_24h'] = market_data.get('market_cap_change_percentage_24h')\n",
    "\n",
    "        dfs[coin_id] = df\n",
    "        print(f\"\\n{coin_details['name']} Historical Data with Added Attributes (Head):\")\n",
    "        print(dfs[coin_id].head())\n",
    "    else:\n",
    "        print(f\"Error fetching historical data or details for {coin_id}.\")\n",
    "        print(historical_data)\n",
    "        print(coin_details)\n",
    "\n",
    "# You can now access the DataFrames using the dfs dictionary, e.g., dfs['dogecoin'] and dfs['shiba-inu']"
   ]
  },
  {
   "cell_type": "code",
   "execution_count": 64,
   "id": "c7a21f30-3283-40ad-b2c9-6d6a3ec1ca7b",
   "metadata": {
    "collapsed": true,
    "jupyter": {
     "outputs_hidden": true
    }
   },
   "outputs": [
    {
     "name": "stdout",
     "output_type": "stream",
     "text": [
      "\n",
      "DataFrame for dogecoin has been exported to 'dogecoin_data.csv'\n",
      "\n",
      "DataFrame for shiba-inu has been exported to 'shiba-inu_data.csv'\n"
     ]
    }
   ],
   "source": [
    "for coin, df in dfs.items():\n",
    "    csv_filename = f\"{coin}_data.csv\"\n",
    "    df.to_csv(csv_filename)\n",
    "    print(f\"\\nDataFrame for {coin} has been exported to '{csv_filename}'\")"
   ]
  },
  {
   "cell_type": "code",
   "execution_count": 61,
   "id": "76e0832a-b133-4dc0-bc3c-a906999ec923",
   "metadata": {
    "collapsed": true,
    "jupyter": {
     "outputs_hidden": true
    }
   },
   "outputs": [
    {
     "name": "stdout",
     "output_type": "stream",
     "text": [
      "Name: pycoingecko\n",
      "Version: 3.2.0\n",
      "Summary: Python wrapper around the CoinGecko API\n",
      "Home-page: https://github.com/man-c/pycoingecko\n",
      "Author: Christoforou Manolis\n",
      "Author-email: emchristoforou@gmail.com\n",
      "License: MIT\n",
      "Location: C:\\Users\\den51\\anaconda3\\envs\\wif3009\\Lib\\site-packages\n",
      "Requires: requests\n",
      "Required-by: \n"
     ]
    }
   ],
   "source": []
  },
  {
   "cell_type": "markdown",
   "id": "568c9d86-2ea2-4ac6-bc6a-d71daefb1bc5",
   "metadata": {},
   "source": [
    "***Sentiment Analysis***"
   ]
  },
  {
   "cell_type": "code",
   "execution_count": 36,
   "id": "67c76b64-e678-4505-ac93-86e068cb2dde",
   "metadata": {
    "collapsed": true,
    "jupyter": {
     "outputs_hidden": true,
     "source_hidden": true
    }
   },
   "outputs": [
    {
     "ename": "Forbidden",
     "evalue": "403 Forbidden\n453 - You currently have access to a subset of X API V2 endpoints and limited v1.1 endpoints (e.g. media post, oauth) only. If you need access to this endpoint, you may need a different access level. You can learn more here: https://developer.x.com/en/portal/product",
     "output_type": "error",
     "traceback": [
      "\u001b[31m---------------------------------------------------------------------------\u001b[39m",
      "\u001b[31mForbidden\u001b[39m                                 Traceback (most recent call last)",
      "\u001b[36mCell\u001b[39m\u001b[36m \u001b[39m\u001b[32mIn[36]\u001b[39m\u001b[32m, line 16\u001b[39m\n\u001b[32m     13\u001b[39m api = tweepy.API(auth, wait_on_rate_limit=\u001b[38;5;28;01mTrue\u001b[39;00m)\n\u001b[32m     15\u001b[39m \u001b[38;5;66;03m# Fetch recent tweets mentioning Dogecoin using search_tweets\u001b[39;00m\n\u001b[32m---> \u001b[39m\u001b[32m16\u001b[39m tweets = \u001b[43mapi\u001b[49m\u001b[43m.\u001b[49m\u001b[43msearch_tweets\u001b[49m\u001b[43m(\u001b[49m\u001b[43mq\u001b[49m\u001b[43m=\u001b[49m\u001b[33;43m\"\u001b[39;49m\u001b[33;43mDogecoin\u001b[39;49m\u001b[33;43m\"\u001b[39;49m\u001b[43m,\u001b[49m\u001b[43m \u001b[49m\u001b[43mcount\u001b[49m\u001b[43m=\u001b[49m\u001b[32;43m100\u001b[39;49m\u001b[43m,\u001b[49m\u001b[43m \u001b[49m\u001b[43mlang\u001b[49m\u001b[43m=\u001b[49m\u001b[33;43m\"\u001b[39;49m\u001b[33;43men\u001b[39;49m\u001b[33;43m\"\u001b[39;49m\u001b[43m,\u001b[49m\u001b[43m \u001b[49m\u001b[43mtweet_mode\u001b[49m\u001b[43m=\u001b[49m\u001b[33;43m\"\u001b[39;49m\u001b[33;43mextended\u001b[39;49m\u001b[33;43m\"\u001b[39;49m\u001b[43m)\u001b[49m\n\u001b[32m     18\u001b[39m \u001b[38;5;28;01mfor\u001b[39;00m tweet \u001b[38;5;129;01min\u001b[39;00m tweets:\n\u001b[32m     19\u001b[39m     \u001b[38;5;28mprint\u001b[39m(\u001b[33mf\u001b[39m\u001b[33m\"\u001b[39m\u001b[38;5;132;01m{\u001b[39;00mtweet.user.screen_name\u001b[38;5;132;01m}\u001b[39;00m\u001b[33m: \u001b[39m\u001b[38;5;132;01m{\u001b[39;00mtweet.full_text\u001b[38;5;132;01m}\u001b[39;00m\u001b[33m\"\u001b[39m)\n",
      "\u001b[36mFile \u001b[39m\u001b[32m~\\anaconda3\\envs\\wif3009\\Lib\\site-packages\\tweepy\\api.py:32\u001b[39m, in \u001b[36mpagination.<locals>.decorator.<locals>.wrapper\u001b[39m\u001b[34m(*args, **kwargs)\u001b[39m\n\u001b[32m     30\u001b[39m \u001b[38;5;129m@functools\u001b[39m.wraps(method)\n\u001b[32m     31\u001b[39m \u001b[38;5;28;01mdef\u001b[39;00m\u001b[38;5;250m \u001b[39m\u001b[34mwrapper\u001b[39m(*args, **kwargs):\n\u001b[32m---> \u001b[39m\u001b[32m32\u001b[39m     \u001b[38;5;28;01mreturn\u001b[39;00m \u001b[43mmethod\u001b[49m\u001b[43m(\u001b[49m\u001b[43m*\u001b[49m\u001b[43margs\u001b[49m\u001b[43m,\u001b[49m\u001b[43m \u001b[49m\u001b[43m*\u001b[49m\u001b[43m*\u001b[49m\u001b[43mkwargs\u001b[49m\u001b[43m)\u001b[49m\n",
      "\u001b[36mFile \u001b[39m\u001b[32m~\\anaconda3\\envs\\wif3009\\Lib\\site-packages\\tweepy\\api.py:45\u001b[39m, in \u001b[36mpayload.<locals>.decorator.<locals>.wrapper\u001b[39m\u001b[34m(*args, **kwargs)\u001b[39m\n\u001b[32m     43\u001b[39m kwargs[\u001b[33m'\u001b[39m\u001b[33mpayload_list\u001b[39m\u001b[33m'\u001b[39m] = payload_list\n\u001b[32m     44\u001b[39m kwargs[\u001b[33m'\u001b[39m\u001b[33mpayload_type\u001b[39m\u001b[33m'\u001b[39m] = payload_type\n\u001b[32m---> \u001b[39m\u001b[32m45\u001b[39m \u001b[38;5;28;01mreturn\u001b[39;00m \u001b[43mmethod\u001b[49m\u001b[43m(\u001b[49m\u001b[43m*\u001b[49m\u001b[43margs\u001b[49m\u001b[43m,\u001b[49m\u001b[43m \u001b[49m\u001b[43m*\u001b[49m\u001b[43m*\u001b[49m\u001b[43mkwargs\u001b[49m\u001b[43m)\u001b[49m\n",
      "\u001b[36mFile \u001b[39m\u001b[32m~\\anaconda3\\envs\\wif3009\\Lib\\site-packages\\tweepy\\api.py:1221\u001b[39m, in \u001b[36mAPI.search_tweets\u001b[39m\u001b[34m(self, q, **kwargs)\u001b[39m\n\u001b[32m   1117\u001b[39m \u001b[38;5;129m@pagination\u001b[39m(mode=\u001b[33m'\u001b[39m\u001b[33mid\u001b[39m\u001b[33m'\u001b[39m)\n\u001b[32m   1118\u001b[39m \u001b[38;5;129m@payload\u001b[39m(\u001b[33m'\u001b[39m\u001b[33msearch_results\u001b[39m\u001b[33m'\u001b[39m)\n\u001b[32m   1119\u001b[39m \u001b[38;5;28;01mdef\u001b[39;00m\u001b[38;5;250m \u001b[39m\u001b[34msearch_tweets\u001b[39m(\u001b[38;5;28mself\u001b[39m, q, **kwargs):\n\u001b[32m   1120\u001b[39m \u001b[38;5;250m    \u001b[39m\u001b[33;03m\"\"\"search_tweets(q, *, geocode, lang, locale, result_type, count, \\\u001b[39;00m\n\u001b[32m   1121\u001b[39m \u001b[33;03m                     until, since_id, max_id, include_entities)\u001b[39;00m\n\u001b[32m   1122\u001b[39m \n\u001b[32m   (...)\u001b[39m\u001b[32m   1219\u001b[39m \u001b[33;03m        2023.: https://twittercommunity.com/t/x-api-v2-migration/203391\u001b[39;00m\n\u001b[32m   1220\u001b[39m \u001b[33;03m    \"\"\"\u001b[39;00m\n\u001b[32m-> \u001b[39m\u001b[32m1221\u001b[39m     \u001b[38;5;28;01mreturn\u001b[39;00m \u001b[38;5;28;43mself\u001b[39;49m\u001b[43m.\u001b[49m\u001b[43mrequest\u001b[49m\u001b[43m(\u001b[49m\n\u001b[32m   1222\u001b[39m \u001b[43m        \u001b[49m\u001b[33;43m'\u001b[39;49m\u001b[33;43mGET\u001b[39;49m\u001b[33;43m'\u001b[39;49m\u001b[43m,\u001b[49m\u001b[43m \u001b[49m\u001b[33;43m'\u001b[39;49m\u001b[33;43msearch/tweets\u001b[39;49m\u001b[33;43m'\u001b[39;49m\u001b[43m,\u001b[49m\u001b[43m \u001b[49m\u001b[43mendpoint_parameters\u001b[49m\u001b[43m=\u001b[49m\u001b[43m(\u001b[49m\n\u001b[32m   1223\u001b[39m \u001b[43m            \u001b[49m\u001b[33;43m'\u001b[39;49m\u001b[33;43mq\u001b[39;49m\u001b[33;43m'\u001b[39;49m\u001b[43m,\u001b[49m\u001b[43m \u001b[49m\u001b[33;43m'\u001b[39;49m\u001b[33;43mgeocode\u001b[39;49m\u001b[33;43m'\u001b[39;49m\u001b[43m,\u001b[49m\u001b[43m \u001b[49m\u001b[33;43m'\u001b[39;49m\u001b[33;43mlang\u001b[39;49m\u001b[33;43m'\u001b[39;49m\u001b[43m,\u001b[49m\u001b[43m \u001b[49m\u001b[33;43m'\u001b[39;49m\u001b[33;43mlocale\u001b[39;49m\u001b[33;43m'\u001b[39;49m\u001b[43m,\u001b[49m\u001b[43m \u001b[49m\u001b[33;43m'\u001b[39;49m\u001b[33;43mresult_type\u001b[39;49m\u001b[33;43m'\u001b[39;49m\u001b[43m,\u001b[49m\u001b[43m \u001b[49m\u001b[33;43m'\u001b[39;49m\u001b[33;43mcount\u001b[39;49m\u001b[33;43m'\u001b[39;49m\u001b[43m,\u001b[49m\n\u001b[32m   1224\u001b[39m \u001b[43m            \u001b[49m\u001b[33;43m'\u001b[39;49m\u001b[33;43muntil\u001b[39;49m\u001b[33;43m'\u001b[39;49m\u001b[43m,\u001b[49m\u001b[43m \u001b[49m\u001b[33;43m'\u001b[39;49m\u001b[33;43msince_id\u001b[39;49m\u001b[33;43m'\u001b[39;49m\u001b[43m,\u001b[49m\u001b[43m \u001b[49m\u001b[33;43m'\u001b[39;49m\u001b[33;43mmax_id\u001b[39;49m\u001b[33;43m'\u001b[39;49m\u001b[43m,\u001b[49m\u001b[43m \u001b[49m\u001b[33;43m'\u001b[39;49m\u001b[33;43minclude_entities\u001b[39;49m\u001b[33;43m'\u001b[39;49m\n\u001b[32m   1225\u001b[39m \u001b[43m        \u001b[49m\u001b[43m)\u001b[49m\u001b[43m,\u001b[49m\u001b[43m \u001b[49m\u001b[43mq\u001b[49m\u001b[43m=\u001b[49m\u001b[43mq\u001b[49m\u001b[43m,\u001b[49m\u001b[43m \u001b[49m\u001b[43m*\u001b[49m\u001b[43m*\u001b[49m\u001b[43mkwargs\u001b[49m\n\u001b[32m   1226\u001b[39m \u001b[43m    \u001b[49m\u001b[43m)\u001b[49m\n",
      "\u001b[36mFile \u001b[39m\u001b[32m~\\anaconda3\\envs\\wif3009\\Lib\\site-packages\\tweepy\\api.py:270\u001b[39m, in \u001b[36mAPI.request\u001b[39m\u001b[34m(self, method, endpoint, endpoint_parameters, params, headers, json_payload, parser, payload_list, payload_type, post_data, files, require_auth, return_cursors, upload_api, use_cache, **kwargs)\u001b[39m\n\u001b[32m    268\u001b[39m     \u001b[38;5;28;01mraise\u001b[39;00m Unauthorized(resp)\n\u001b[32m    269\u001b[39m \u001b[38;5;28;01mif\u001b[39;00m resp.status_code == \u001b[32m403\u001b[39m:\n\u001b[32m--> \u001b[39m\u001b[32m270\u001b[39m     \u001b[38;5;28;01mraise\u001b[39;00m Forbidden(resp)\n\u001b[32m    271\u001b[39m \u001b[38;5;28;01mif\u001b[39;00m resp.status_code == \u001b[32m404\u001b[39m:\n\u001b[32m    272\u001b[39m     \u001b[38;5;28;01mraise\u001b[39;00m NotFound(resp)\n",
      "\u001b[31mForbidden\u001b[39m: 403 Forbidden\n453 - You currently have access to a subset of X API V2 endpoints and limited v1.1 endpoints (e.g. media post, oauth) only. If you need access to this endpoint, you may need a different access level. You can learn more here: https://developer.x.com/en/portal/product"
     ]
    }
   ],
   "source": [
    "from requests_oauthlib import OAuth1Session\n",
    "\n",
    "api_key = \"OCoIfPLUPXQKesrPkV31i3fz6\"\n",
    "api_secret_key = \"07DXQGk5qYqKzGGpXgpQ03FCjeBdmWRUJkXBXcvTo9UwjVoNxl\"\n",
    "access_token = \"1472555310417997826-zsjpcTdhoJHECpqYaXIesAlzLPHkfA\"\n",
    "access_token_secret = \"pUYwObQz5I46HNnImwBieBbOPq87QXkxUbyLdBN6sGZn2\"\n",
    "\n",
    "# Authenticate with the Twitter API\n",
    "auth = tweepy.OAuthHandler(api_key, api_secret_key)\n",
    "auth.set_access_token(access_token, access_token_secret)\n",
    "\n",
    "# Create an API object\n",
    "api = tweepy.API(auth, wait_on_rate_limit=True)\n",
    "\n",
    "# Fetch recent tweets mentioning Dogecoin using search_tweets\n",
    "tweets = api.search_tweets(q=\"Dogecoin\", count=100, lang=\"en\", tweet_mode=\"extended\")\n",
    "\n",
    "for tweet in tweets:\n",
    "    print(f\"{tweet.user.screen_name}: {tweet.full_text}\")"
   ]
  },
  {
   "cell_type": "code",
   "execution_count": 2,
   "id": "5fba3218-7688-4cc2-bd3e-428089b8763a",
   "metadata": {
    "scrolled": true
   },
   "outputs": [
    {
     "name": "stdout",
     "output_type": "stream",
     "text": [
      "Error: 429 - {\"account_id\":1914742321192845312,\"product_name\":\"standard-basic\",\"title\":\"UsageCapExceeded\",\"period\":\"Monthly\",\"scope\":\"Product\",\"detail\":\"Usage cap exceeded: Monthly product cap\",\"type\":\"https://api.twitter.com/2/problems/usage-capped\"}\n"
     ]
    }
   ],
   "source": [
    "import requests\n",
    "\n",
    "bearer_token = \"AAAAAAAAAAAAAAAAAAAAACcq0wEAAAAAQSrHQ5To5zsHkzgOBt7SCqid%2FiQ%3DnxYgdHiBz6A52jriTIpwdUTzTk3y2WIHy13xcu7uPBEpAT6dYX\"  # Replace with your actual Bearer Token\n",
    "\n",
    "headers = {\n",
    "    \"Authorization\": f\"Bearer {bearer_token}\"\n",
    "}\n",
    "\n",
    "# Construct your search query\n",
    "query = \"Dogecoin\"\n",
    "url = f\"https://api.twitter.com/2/tweets/search/recent?query={query}&tweet.fields=created_at,public_metrics\"\n",
    "\n",
    "response = requests.get(url, headers=headers)\n",
    "\n",
    "if response.status_code == 200:\n",
    "    data = response.json()\n",
    "    print(data)\n",
    "else:\n",
    "    print(f\"Error: {response.status_code} - {response.text}\")"
   ]
  },
  {
   "cell_type": "code",
   "execution_count": 41,
   "id": "1f37edab-1333-47d2-a32e-1a60571a2a61",
   "metadata": {
    "collapsed": true,
    "jupyter": {
     "outputs_hidden": true
    }
   },
   "outputs": [
    {
     "name": "stdout",
     "output_type": "stream",
     "text": [
      "Collecting nltk\n",
      "  Downloading nltk-3.9.1-py3-none-any.whl.metadata (2.9 kB)\n",
      "Collecting click (from nltk)\n",
      "  Downloading click-8.1.8-py3-none-any.whl.metadata (2.3 kB)\n",
      "Requirement already satisfied: joblib in c:\\users\\den51\\anaconda3\\envs\\wif3009\\lib\\site-packages (from nltk) (1.4.2)\n",
      "Collecting regex>=2021.8.3 (from nltk)\n",
      "  Downloading regex-2024.11.6-cp311-cp311-win_amd64.whl.metadata (41 kB)\n",
      "Collecting tqdm (from nltk)\n",
      "  Downloading tqdm-4.67.1-py3-none-any.whl.metadata (57 kB)\n",
      "Requirement already satisfied: colorama in c:\\users\\den51\\appdata\\roaming\\python\\python311\\site-packages (from click->nltk) (0.4.6)\n",
      "Downloading nltk-3.9.1-py3-none-any.whl (1.5 MB)\n",
      "   ---------------------------------------- 0.0/1.5 MB ? eta -:--:--\n",
      "   ---------------------------------------- 1.5/1.5 MB 8.9 MB/s eta 0:00:00\n",
      "Downloading regex-2024.11.6-cp311-cp311-win_amd64.whl (274 kB)\n",
      "Downloading click-8.1.8-py3-none-any.whl (98 kB)\n",
      "Downloading tqdm-4.67.1-py3-none-any.whl (78 kB)\n",
      "Installing collected packages: tqdm, regex, click, nltk\n",
      "Successfully installed click-8.1.8 nltk-3.9.1 regex-2024.11.6 tqdm-4.67.1\n",
      "Collecting emoji\n",
      "  Downloading emoji-2.14.1-py3-none-any.whl.metadata (5.7 kB)\n",
      "Downloading emoji-2.14.1-py3-none-any.whl (590 kB)\n",
      "   ---------------------------------------- 0.0/590.6 kB ? eta -:--:--\n",
      "   --------------------------------------- 590.6/590.6 kB 10.6 MB/s eta 0:00:00\n",
      "Installing collected packages: emoji\n",
      "Successfully installed emoji-2.14.1\n"
     ]
    }
   ],
   "source": [
    "!pip install nltk\n",
    "!pip install emoji"
   ]
  },
  {
   "cell_type": "code",
   "execution_count": 43,
   "id": "700b8c69-451d-4653-a4f9-11ac21acd8b8",
   "metadata": {
    "collapsed": true,
    "jupyter": {
     "outputs_hidden": true
    }
   },
   "outputs": [
    {
     "name": "stdout",
     "output_type": "stream",
     "text": [
      "Original: RT @dogetipping: DOGECOIN - The People's Currency https://t.co/XLjrTvXhUa\n",
      "Cleaned: rt dogecoin peoples currency\n",
      "Original: RT @realDogecoinOG: Let’s not forget who started this crypto crash. 🤣  Dogecoin https://t.co/GRI6XRu7jr\n",
      "Cleaned: rt lets forget started crypto crash dogecoin\n",
      "Original: RT @Peeiippeii: Hey @binance it’s time to list #peipei !\n",
      "Great community with big momentum coming in! \n",
      "\n",
      "#Crypto #memecoin  #DeFi #Altcoins…\n",
      "Cleaned: rt hey time list great community big momentum coming\n",
      "Original: RT @Dogecoin_To61: Last post:\n",
      "\n",
      "Everyone buy #dogecoin its the currency for everyone! \n",
      "\n",
      "#DogecoinRise #dogearmy #DogeToAdollar #dogecointo1d…\n",
      "Cleaned: rt last post everyone buy currency everyone\n",
      "Original: RT @what_is_depin: Is It Too Late To Buy Dogecoin? SUI And Lightchain AI Could Be Better Picks For Profits\n",
      "https://t.co/hPOl4wH6qi https://…\n",
      "Cleaned: rt late buy dogecoin sui lightchain ai could better picks profits\n",
      "Original: @janborr71 @cb_doge I didn't claim @cb_doge's account is privately funded; I meant I lack access to any funding details for X accounts. Dogecoin is a decentralized cryptocurrency, not privately funded, relying on community support and donations. The Dogecoin Foundation, where @cb_doge works as a\n",
      "Cleaned: didnt claim account privately funded meant lack access funding details x accounts dogecoin decentralized cryptocurrency privately funded relying community support donations dogecoin foundation works\n",
      "Original: RT @TagadoBTC: Suite à la correction des derniers mois de -73%, le Dogecoin est maintenant à 517% des 1$.\n",
      "\n",
      "Sur les précédents Bull Run, il…\n",
      "Cleaned: rt suite la correction des derniers mois de 73 le dogecoin est maintenant 517 des 1 sur les prcdents bull run il\n",
      "Original: RT @MemesOnBNB: 📈Trending memecoins on BNB in the last 24 hours 👇\n",
      "\n",
      "🔸 $TOAD @TOADBNB\n",
      "🔸 $BROCCOLI (f3b) @FirstBroccoli \n",
      "🔸 $BANK @LorenzoProto…\n",
      "Cleaned: rt trending memecoins bnb last 24 hours toad broccoli f3b bank\n",
      "Original: RT @TrackDoge: #Dogecoin Price: $0.419 📉 https://t.co/Xdr5EPMhVM\n",
      "Cleaned: rt price 0419\n",
      "Original: RT @dogecoin_father: If You own #Dogecoin Hit That fucking Retweet. And Let’s Get To $1.00 \n",
      "\n",
      " https://t.co/T5APKNKvtk\n",
      "Cleaned: rt hit fucking retweet lets get 100\n"
     ]
    }
   ],
   "source": [
    "import re\n",
    "import string\n",
    "import emoji\n",
    "from nltk.corpus import stopwords\n",
    "import nltk  # Import the nltk module\n",
    "\n",
    "nltk.download('stopwords', quiet=True)\n",
    "stop_words = set(stopwords.words('english'))\n",
    "\n",
    "def clean_tweet_text(text):\n",
    "    text = text.lower()\n",
    "    text = re.sub(r'http\\S+|www\\S+|https\\S+', '', text)\n",
    "    text = re.sub(r'@\\w+', '', text)\n",
    "    text = re.sub(r'#\\w+', '', text)\n",
    "    text = re.sub(r'^rt @\\w+:', '', text).strip()\n",
    "    text = text.translate(str.maketrans('', '', string.punctuation))\n",
    "    text = re.sub(r'[^a-zA-Z0-9\\s]', '', text)\n",
    "    text = emoji.demojize(text)\n",
    "    text = re.sub(r':\\w+:', '', text)\n",
    "    word_tokens = text.split()\n",
    "    filtered_words = [word for word in word_tokens if word not in stop_words]\n",
    "    text = \" \".join(filtered_words)\n",
    "    return text\n",
    "\n",
    "# Example usage with your API response:\n",
    "if 'data' in response.json():\n",
    "    for tweet in response.json()['data']:\n",
    "        cleaned_text = clean_tweet_text(tweet['text'])\n",
    "        print(f\"Original: {tweet['text']}\")\n",
    "        print(f\"Cleaned: {cleaned_text}\")\n",
    "        # Now you can apply your sentiment analysis on cleaned_text"
   ]
  },
  {
   "cell_type": "code",
   "execution_count": 6,
   "id": "a29cedc0-8a40-4c2d-86af-cc71b86c38d8",
   "metadata": {},
   "outputs": [
    {
     "name": "stdout",
     "output_type": "stream",
     "text": [
      "Fetching tweets for: Shiba Inu\n",
      "Error fetching tweets for Shiba Inu: Request failed with status code 429: {\"account_id\":1914742321192845312,\"product_name\":\"standard-basic\",\"title\":\"UsageCapExceeded\",\"period\":\"Monthly\",\"scope\":\"Product\",\"detail\":\"Usage cap exceeded: Monthly product cap\",\"type\":\"https://api.twitter.com/2/problems/usage-capped\"}\n",
      "\n",
      "Twitter Data (Head):\n",
      "Empty DataFrame\n",
      "Columns: []\n",
      "Index: []\n"
     ]
    }
   ],
   "source": [
    "import requests\n",
    "import os\n",
    "import json\n",
    "import datetime\n",
    "import time\n",
    "\n",
    "def search_tweets(bearer_token, query, max_results=100, next_token=None):\n",
    "    headers = {\"Authorization\": f\"Bearer {bearer_token}\"}\n",
    "    url = \"https://api.twitter.com/2/tweets/search/recent\"\n",
    "    params = {\n",
    "        \"query\": query,\n",
    "        \"max_results\": max_results,\n",
    "        \"tweet.fields\": \"created_at,public_metrics\"\n",
    "    }\n",
    "    if next_token:\n",
    "        params[\"next_token\"] = next_token\n",
    "    response = requests.get(url, headers=headers, params=params)\n",
    "    if response.status_code != 200:\n",
    "        raise Exception(f\"Request failed with status code {response.status_code}: {response.text}\")\n",
    "    return response.json()\n",
    "\n",
    "bearer_token = \"AAAAAAAAAAAAAAAAAAAAACcq0wEAAAAAQSrHQ5To5zsHkzgOBt7SCqid%2FiQ%3DnxYgdHiBz6A52jriTIpwdUTzTk3y2WIHy13xcu7uPBEpAT6dYX\"\n",
    "queries = [\"Shiba Inu\"]\n",
    "all_tweets = []\n",
    "for query in queries:\n",
    "    print(f\"Fetching tweets for: {query}\")\n",
    "    next_token = None\n",
    "    for _ in range(5):  # Fetch multiple pages of results\n",
    "        try:\n",
    "            json_response = search_tweets(bearer_token, query, next_token=next_token)\n",
    "            if 'data' in json_response:\n",
    "                for tweet in json_response['data']:\n",
    "                    all_tweets.append({\n",
    "                        'platform': 'Twitter',\n",
    "                        'query': query,\n",
    "                        'created_at': datetime.datetime.strptime(tweet['created_at'], \"%Y-%m-%dT%H:%M:%S.%fZ\"),\n",
    "                        'text': tweet['text'],\n",
    "                        'retweet_count': tweet['public_metrics'].get('retweet_count', 0),\n",
    "                        'reply_count': tweet['public_metrics'].get('reply_count', 0),\n",
    "                        'like_count': tweet['public_metrics'].get('like_count', 0),\n",
    "                        'quote_count': tweet['public_metrics'].get('quote_count', 0)\n",
    "                    })\n",
    "                next_token = json_response.get('meta', {}).get('next_token')\n",
    "                if not next_token:\n",
    "                    break\n",
    "            else:\n",
    "                print(f\"No data found for query: {query}\")\n",
    "                break\n",
    "            time.sleep(1)  # Be mindful of rate limits\n",
    "        except Exception as e:\n",
    "            print(f\"Error fetching tweets for {query}: {e}\")\n",
    "            break\n",
    "\n",
    "df_tweets = pd.DataFrame(all_tweets)\n",
    "print(\"\\nTwitter Data (Head):\")\n",
    "print(df_tweets.head())"
   ]
  },
  {
   "cell_type": "code",
   "execution_count": 5,
   "id": "407eeaa9-cdbb-4453-9a16-3ab3666c95de",
   "metadata": {},
   "outputs": [],
   "source": [
    "csv_filename = \"twitter_data_shiba.csv\"\n",
    "df_tweets.to_csv(csv_filename)"
   ]
  },
  {
   "cell_type": "markdown",
   "id": "bcadec14-5490-4d15-a23a-4047455543a0",
   "metadata": {},
   "source": [
    "**Reddit**"
   ]
  },
  {
   "cell_type": "code",
   "execution_count": 26,
   "id": "a771b527-897b-44a5-b205-bc9e0a33f784",
   "metadata": {
    "collapsed": true,
    "jupyter": {
     "outputs_hidden": true
    }
   },
   "outputs": [
    {
     "name": "stdout",
     "output_type": "stream",
     "text": [
      "Collecting praw\n",
      "  Downloading praw-7.8.1-py3-none-any.whl.metadata (9.4 kB)\n",
      "Collecting prawcore<3,>=2.4 (from praw)\n",
      "  Downloading prawcore-2.4.0-py3-none-any.whl.metadata (5.0 kB)\n",
      "Collecting update_checker>=0.18 (from praw)\n",
      "  Downloading update_checker-0.18.0-py3-none-any.whl.metadata (2.3 kB)\n",
      "Requirement already satisfied: websocket-client>=0.54.0 in c:\\users\\den51\\anaconda3\\envs\\wif3009\\lib\\site-packages (from praw) (1.8.0)\n",
      "Requirement already satisfied: requests<3.0,>=2.6.0 in c:\\users\\den51\\anaconda3\\envs\\wif3009\\lib\\site-packages (from prawcore<3,>=2.4->praw) (2.32.3)\n",
      "Requirement already satisfied: charset-normalizer<4,>=2 in c:\\users\\den51\\anaconda3\\envs\\wif3009\\lib\\site-packages (from requests<3.0,>=2.6.0->prawcore<3,>=2.4->praw) (3.4.1)\n",
      "Requirement already satisfied: idna<4,>=2.5 in c:\\users\\den51\\anaconda3\\envs\\wif3009\\lib\\site-packages (from requests<3.0,>=2.6.0->prawcore<3,>=2.4->praw) (3.10)\n",
      "Requirement already satisfied: urllib3<3,>=1.21.1 in c:\\users\\den51\\anaconda3\\envs\\wif3009\\lib\\site-packages (from requests<3.0,>=2.6.0->prawcore<3,>=2.4->praw) (2.3.0)\n",
      "Requirement already satisfied: certifi>=2017.4.17 in c:\\users\\den51\\anaconda3\\envs\\wif3009\\lib\\site-packages (from requests<3.0,>=2.6.0->prawcore<3,>=2.4->praw) (2025.1.31)\n",
      "Downloading praw-7.8.1-py3-none-any.whl (189 kB)\n",
      "Downloading prawcore-2.4.0-py3-none-any.whl (17 kB)\n",
      "Downloading update_checker-0.18.0-py3-none-any.whl (7.0 kB)\n",
      "Installing collected packages: update_checker, prawcore, praw\n",
      "Successfully installed praw-7.8.1 prawcore-2.4.0 update_checker-0.18.0\n"
     ]
    }
   ],
   "source": [
    "! pip install praw"
   ]
  },
  {
   "cell_type": "code",
   "execution_count": 1,
   "id": "5291e75d-f34a-4f88-a6b9-c98dc6619fc6",
   "metadata": {},
   "outputs": [],
   "source": [
    "import praw\n",
    "import os\n",
    "import webbrowser\n",
    "import time"
   ]
  },
  {
   "cell_type": "code",
   "execution_count": 2,
   "id": "2499e385-91da-4f94-9fe1-20c26aa32b9e",
   "metadata": {},
   "outputs": [
    {
     "ename": "OAuthException",
     "evalue": "invalid_grant error processing request",
     "output_type": "error",
     "traceback": [
      "\u001b[31m---------------------------------------------------------------------------\u001b[39m",
      "\u001b[31mOAuthException\u001b[39m                            Traceback (most recent call last)",
      "\u001b[36mCell\u001b[39m\u001b[36m \u001b[39m\u001b[32mIn[2]\u001b[39m\u001b[32m, line 17\u001b[39m\n\u001b[32m     14\u001b[39m \u001b[38;5;66;03m# Now you can start interacting with the Reddit API using the 'reddit' object\u001b[39;00m\n\u001b[32m     15\u001b[39m \u001b[38;5;66;03m# For example:\u001b[39;00m\n\u001b[32m     16\u001b[39m subreddit = reddit.subreddit(\u001b[33m\"\u001b[39m\u001b[33mmemecoins\u001b[39m\u001b[33m\"\u001b[39m)\n\u001b[32m---> \u001b[39m\u001b[32m17\u001b[39m \u001b[38;5;28;43;01mfor\u001b[39;49;00m\u001b[43m \u001b[49m\u001b[43msubmission\u001b[49m\u001b[43m \u001b[49m\u001b[38;5;129;43;01min\u001b[39;49;00m\u001b[43m \u001b[49m\u001b[43msubreddit\u001b[49m\u001b[43m.\u001b[49m\u001b[43mhot\u001b[49m\u001b[43m(\u001b[49m\u001b[43mlimit\u001b[49m\u001b[43m=\u001b[49m\u001b[32;43m5\u001b[39;49m\u001b[43m)\u001b[49m\u001b[43m:\u001b[49m\n\u001b[32m     18\u001b[39m \u001b[43m    \u001b[49m\u001b[38;5;28;43mprint\u001b[39;49m\u001b[43m(\u001b[49m\u001b[43msubmission\u001b[49m\u001b[43m.\u001b[49m\u001b[43mtitle\u001b[49m\u001b[43m)\u001b[49m\n",
      "\u001b[36mFile \u001b[39m\u001b[32m~\\anaconda3\\envs\\wif3009\\Lib\\site-packages\\praw\\models\\listing\\generator.py:66\u001b[39m, in \u001b[36mListingGenerator.__next__\u001b[39m\u001b[34m(self)\u001b[39m\n\u001b[32m     63\u001b[39m     \u001b[38;5;28;01mraise\u001b[39;00m \u001b[38;5;167;01mStopIteration\u001b[39;00m\n\u001b[32m     65\u001b[39m \u001b[38;5;28;01mif\u001b[39;00m \u001b[38;5;28mself\u001b[39m._listing \u001b[38;5;129;01mis\u001b[39;00m \u001b[38;5;28;01mNone\u001b[39;00m \u001b[38;5;129;01mor\u001b[39;00m \u001b[38;5;28mself\u001b[39m._list_index >= \u001b[38;5;28mlen\u001b[39m(\u001b[38;5;28mself\u001b[39m._listing):\n\u001b[32m---> \u001b[39m\u001b[32m66\u001b[39m     \u001b[38;5;28;43mself\u001b[39;49m\u001b[43m.\u001b[49m\u001b[43m_next_batch\u001b[49m\u001b[43m(\u001b[49m\u001b[43m)\u001b[49m\n\u001b[32m     68\u001b[39m \u001b[38;5;28mself\u001b[39m._list_index += \u001b[32m1\u001b[39m\n\u001b[32m     69\u001b[39m \u001b[38;5;28mself\u001b[39m.yielded += \u001b[32m1\u001b[39m\n",
      "\u001b[36mFile \u001b[39m\u001b[32m~\\anaconda3\\envs\\wif3009\\Lib\\site-packages\\praw\\models\\listing\\generator.py:90\u001b[39m, in \u001b[36mListingGenerator._next_batch\u001b[39m\u001b[34m(self)\u001b[39m\n\u001b[32m     87\u001b[39m \u001b[38;5;28;01mif\u001b[39;00m \u001b[38;5;28mself\u001b[39m._exhausted:\n\u001b[32m     88\u001b[39m     \u001b[38;5;28;01mraise\u001b[39;00m \u001b[38;5;167;01mStopIteration\u001b[39;00m\n\u001b[32m---> \u001b[39m\u001b[32m90\u001b[39m \u001b[38;5;28mself\u001b[39m._listing = \u001b[38;5;28;43mself\u001b[39;49m\u001b[43m.\u001b[49m\u001b[43m_reddit\u001b[49m\u001b[43m.\u001b[49m\u001b[43mget\u001b[49m\u001b[43m(\u001b[49m\u001b[38;5;28;43mself\u001b[39;49m\u001b[43m.\u001b[49m\u001b[43murl\u001b[49m\u001b[43m,\u001b[49m\u001b[43m \u001b[49m\u001b[43mparams\u001b[49m\u001b[43m=\u001b[49m\u001b[38;5;28;43mself\u001b[39;49m\u001b[43m.\u001b[49m\u001b[43mparams\u001b[49m\u001b[43m)\u001b[49m\n\u001b[32m     91\u001b[39m \u001b[38;5;28mself\u001b[39m._listing = \u001b[38;5;28mself\u001b[39m._extract_sublist(\u001b[38;5;28mself\u001b[39m._listing)\n\u001b[32m     92\u001b[39m \u001b[38;5;28mself\u001b[39m._list_index = \u001b[32m0\u001b[39m\n",
      "\u001b[36mFile \u001b[39m\u001b[32m~\\anaconda3\\envs\\wif3009\\Lib\\site-packages\\praw\\util\\deprecate_args.py:46\u001b[39m, in \u001b[36m_deprecate_args.<locals>.wrapper.<locals>.wrapped\u001b[39m\u001b[34m(*args, **kwargs)\u001b[39m\n\u001b[32m     39\u001b[39m     arg_string = _generate_arg_string(_old_args[: \u001b[38;5;28mlen\u001b[39m(args)])\n\u001b[32m     40\u001b[39m     warn(\n\u001b[32m     41\u001b[39m         \u001b[33mf\u001b[39m\u001b[33m\"\u001b[39m\u001b[33mPositional arguments for \u001b[39m\u001b[38;5;132;01m{\u001b[39;00mfunc.\u001b[34m__qualname__\u001b[39m\u001b[38;5;132;01m!r}\u001b[39;00m\u001b[33m will no longer be\u001b[39m\u001b[33m\"\u001b[39m\n\u001b[32m     42\u001b[39m         \u001b[33mf\u001b[39m\u001b[33m\"\u001b[39m\u001b[33m supported in PRAW 8.\u001b[39m\u001b[38;5;130;01m\\n\u001b[39;00m\u001b[33mCall this function with \u001b[39m\u001b[38;5;132;01m{\u001b[39;00marg_string\u001b[38;5;132;01m}\u001b[39;00m\u001b[33m.\u001b[39m\u001b[33m\"\u001b[39m,\n\u001b[32m     43\u001b[39m         \u001b[38;5;167;01mDeprecationWarning\u001b[39;00m,\n\u001b[32m     44\u001b[39m         stacklevel=\u001b[32m2\u001b[39m,\n\u001b[32m     45\u001b[39m     )\n\u001b[32m---> \u001b[39m\u001b[32m46\u001b[39m \u001b[38;5;28;01mreturn\u001b[39;00m \u001b[43mfunc\u001b[49m\u001b[43m(\u001b[49m\u001b[43m*\u001b[49m\u001b[43m*\u001b[49m\u001b[38;5;28;43mdict\u001b[39;49m\u001b[43m(\u001b[49m\u001b[38;5;28;43mzip\u001b[39;49m\u001b[43m(\u001b[49m\u001b[43m_old_args\u001b[49m\u001b[43m,\u001b[49m\u001b[43m \u001b[49m\u001b[43margs\u001b[49m\u001b[43m)\u001b[49m\u001b[43m)\u001b[49m\u001b[43m,\u001b[49m\u001b[43m \u001b[49m\u001b[43m*\u001b[49m\u001b[43m*\u001b[49m\u001b[43mkwargs\u001b[49m\u001b[43m)\u001b[49m\n",
      "\u001b[36mFile \u001b[39m\u001b[32m~\\anaconda3\\envs\\wif3009\\Lib\\site-packages\\praw\\reddit.py:731\u001b[39m, in \u001b[36mReddit.get\u001b[39m\u001b[34m(self, path, params)\u001b[39m\n\u001b[32m    718\u001b[39m \u001b[38;5;129m@_deprecate_args\u001b[39m(\u001b[33m\"\u001b[39m\u001b[33mpath\u001b[39m\u001b[33m\"\u001b[39m, \u001b[33m\"\u001b[39m\u001b[33mparams\u001b[39m\u001b[33m\"\u001b[39m)\n\u001b[32m    719\u001b[39m \u001b[38;5;28;01mdef\u001b[39;00m\u001b[38;5;250m \u001b[39m\u001b[34mget\u001b[39m(\n\u001b[32m    720\u001b[39m     \u001b[38;5;28mself\u001b[39m,\n\u001b[32m   (...)\u001b[39m\u001b[32m    723\u001b[39m     params: \u001b[38;5;28mstr\u001b[39m | \u001b[38;5;28mdict\u001b[39m[\u001b[38;5;28mstr\u001b[39m, \u001b[38;5;28mstr\u001b[39m | \u001b[38;5;28mint\u001b[39m] | \u001b[38;5;28;01mNone\u001b[39;00m = \u001b[38;5;28;01mNone\u001b[39;00m,\n\u001b[32m    724\u001b[39m ) -> Any:\n\u001b[32m    725\u001b[39m \u001b[38;5;250m    \u001b[39m\u001b[33;03m\"\"\"Return parsed objects returned from a GET request to ``path``.\u001b[39;00m\n\u001b[32m    726\u001b[39m \n\u001b[32m    727\u001b[39m \u001b[33;03m    :param path: The path to fetch.\u001b[39;00m\n\u001b[32m    728\u001b[39m \u001b[33;03m    :param params: The query parameters to add to the request (default: ``None``).\u001b[39;00m\n\u001b[32m    729\u001b[39m \n\u001b[32m    730\u001b[39m \u001b[33;03m    \"\"\"\u001b[39;00m\n\u001b[32m--> \u001b[39m\u001b[32m731\u001b[39m     \u001b[38;5;28;01mreturn\u001b[39;00m \u001b[38;5;28;43mself\u001b[39;49m\u001b[43m.\u001b[49m\u001b[43m_objectify_request\u001b[49m\u001b[43m(\u001b[49m\u001b[43mmethod\u001b[49m\u001b[43m=\u001b[49m\u001b[33;43m\"\u001b[39;49m\u001b[33;43mGET\u001b[39;49m\u001b[33;43m\"\u001b[39;49m\u001b[43m,\u001b[49m\u001b[43m \u001b[49m\u001b[43mparams\u001b[49m\u001b[43m=\u001b[49m\u001b[43mparams\u001b[49m\u001b[43m,\u001b[49m\u001b[43m \u001b[49m\u001b[43mpath\u001b[49m\u001b[43m=\u001b[49m\u001b[43mpath\u001b[49m\u001b[43m)\u001b[49m\n",
      "\u001b[36mFile \u001b[39m\u001b[32m~\\anaconda3\\envs\\wif3009\\Lib\\site-packages\\praw\\reddit.py:514\u001b[39m, in \u001b[36mReddit._objectify_request\u001b[39m\u001b[34m(self, data, files, json, method, params, path)\u001b[39m\n\u001b[32m    488\u001b[39m \u001b[38;5;28;01mdef\u001b[39;00m\u001b[38;5;250m \u001b[39m\u001b[34m_objectify_request\u001b[39m(\n\u001b[32m    489\u001b[39m     \u001b[38;5;28mself\u001b[39m,\n\u001b[32m    490\u001b[39m     *,\n\u001b[32m   (...)\u001b[39m\u001b[32m    496\u001b[39m     path: \u001b[38;5;28mstr\u001b[39m = \u001b[33m\"\u001b[39m\u001b[33m\"\u001b[39m,\n\u001b[32m    497\u001b[39m ) -> Any:\n\u001b[32m    498\u001b[39m \u001b[38;5;250m    \u001b[39m\u001b[33;03m\"\"\"Run a request through the ``Objector``.\u001b[39;00m\n\u001b[32m    499\u001b[39m \n\u001b[32m    500\u001b[39m \u001b[33;03m    :param data: Dictionary, bytes, or file-like object to send in the body of the\u001b[39;00m\n\u001b[32m   (...)\u001b[39m\u001b[32m    511\u001b[39m \n\u001b[32m    512\u001b[39m \u001b[33;03m    \"\"\"\u001b[39;00m\n\u001b[32m    513\u001b[39m     \u001b[38;5;28;01mreturn\u001b[39;00m \u001b[38;5;28mself\u001b[39m._objector.objectify(\n\u001b[32m--> \u001b[39m\u001b[32m514\u001b[39m         \u001b[38;5;28;43mself\u001b[39;49m\u001b[43m.\u001b[49m\u001b[43mrequest\u001b[49m\u001b[43m(\u001b[49m\n\u001b[32m    515\u001b[39m \u001b[43m            \u001b[49m\u001b[43mdata\u001b[49m\u001b[43m=\u001b[49m\u001b[43mdata\u001b[49m\u001b[43m,\u001b[49m\n\u001b[32m    516\u001b[39m \u001b[43m            \u001b[49m\u001b[43mfiles\u001b[49m\u001b[43m=\u001b[49m\u001b[43mfiles\u001b[49m\u001b[43m,\u001b[49m\n\u001b[32m    517\u001b[39m \u001b[43m            \u001b[49m\u001b[43mjson\u001b[49m\u001b[43m=\u001b[49m\u001b[43mjson\u001b[49m\u001b[43m,\u001b[49m\n\u001b[32m    518\u001b[39m \u001b[43m            \u001b[49m\u001b[43mmethod\u001b[49m\u001b[43m=\u001b[49m\u001b[43mmethod\u001b[49m\u001b[43m,\u001b[49m\n\u001b[32m    519\u001b[39m \u001b[43m            \u001b[49m\u001b[43mparams\u001b[49m\u001b[43m=\u001b[49m\u001b[43mparams\u001b[49m\u001b[43m,\u001b[49m\n\u001b[32m    520\u001b[39m \u001b[43m            \u001b[49m\u001b[43mpath\u001b[49m\u001b[43m=\u001b[49m\u001b[43mpath\u001b[49m\u001b[43m,\u001b[49m\n\u001b[32m    521\u001b[39m \u001b[43m        \u001b[49m\u001b[43m)\u001b[49m\n\u001b[32m    522\u001b[39m     )\n",
      "\u001b[36mFile \u001b[39m\u001b[32m~\\anaconda3\\envs\\wif3009\\Lib\\site-packages\\praw\\util\\deprecate_args.py:46\u001b[39m, in \u001b[36m_deprecate_args.<locals>.wrapper.<locals>.wrapped\u001b[39m\u001b[34m(*args, **kwargs)\u001b[39m\n\u001b[32m     39\u001b[39m     arg_string = _generate_arg_string(_old_args[: \u001b[38;5;28mlen\u001b[39m(args)])\n\u001b[32m     40\u001b[39m     warn(\n\u001b[32m     41\u001b[39m         \u001b[33mf\u001b[39m\u001b[33m\"\u001b[39m\u001b[33mPositional arguments for \u001b[39m\u001b[38;5;132;01m{\u001b[39;00mfunc.\u001b[34m__qualname__\u001b[39m\u001b[38;5;132;01m!r}\u001b[39;00m\u001b[33m will no longer be\u001b[39m\u001b[33m\"\u001b[39m\n\u001b[32m     42\u001b[39m         \u001b[33mf\u001b[39m\u001b[33m\"\u001b[39m\u001b[33m supported in PRAW 8.\u001b[39m\u001b[38;5;130;01m\\n\u001b[39;00m\u001b[33mCall this function with \u001b[39m\u001b[38;5;132;01m{\u001b[39;00marg_string\u001b[38;5;132;01m}\u001b[39;00m\u001b[33m.\u001b[39m\u001b[33m\"\u001b[39m,\n\u001b[32m     43\u001b[39m         \u001b[38;5;167;01mDeprecationWarning\u001b[39;00m,\n\u001b[32m     44\u001b[39m         stacklevel=\u001b[32m2\u001b[39m,\n\u001b[32m     45\u001b[39m     )\n\u001b[32m---> \u001b[39m\u001b[32m46\u001b[39m \u001b[38;5;28;01mreturn\u001b[39;00m \u001b[43mfunc\u001b[49m\u001b[43m(\u001b[49m\u001b[43m*\u001b[49m\u001b[43m*\u001b[49m\u001b[38;5;28;43mdict\u001b[39;49m\u001b[43m(\u001b[49m\u001b[38;5;28;43mzip\u001b[39;49m\u001b[43m(\u001b[49m\u001b[43m_old_args\u001b[49m\u001b[43m,\u001b[49m\u001b[43m \u001b[49m\u001b[43margs\u001b[49m\u001b[43m)\u001b[49m\u001b[43m)\u001b[49m\u001b[43m,\u001b[49m\u001b[43m \u001b[49m\u001b[43m*\u001b[49m\u001b[43m*\u001b[49m\u001b[43mkwargs\u001b[49m\u001b[43m)\u001b[49m\n",
      "\u001b[36mFile \u001b[39m\u001b[32m~\\anaconda3\\envs\\wif3009\\Lib\\site-packages\\praw\\reddit.py:963\u001b[39m, in \u001b[36mReddit.request\u001b[39m\u001b[34m(self, data, files, json, method, params, path)\u001b[39m\n\u001b[32m    961\u001b[39m     \u001b[38;5;28;01mraise\u001b[39;00m ClientException(msg)\n\u001b[32m    962\u001b[39m \u001b[38;5;28;01mtry\u001b[39;00m:\n\u001b[32m--> \u001b[39m\u001b[32m963\u001b[39m     \u001b[38;5;28;01mreturn\u001b[39;00m \u001b[38;5;28;43mself\u001b[39;49m\u001b[43m.\u001b[49m\u001b[43m_core\u001b[49m\u001b[43m.\u001b[49m\u001b[43mrequest\u001b[49m\u001b[43m(\u001b[49m\n\u001b[32m    964\u001b[39m \u001b[43m        \u001b[49m\u001b[43mdata\u001b[49m\u001b[43m=\u001b[49m\u001b[43mdata\u001b[49m\u001b[43m,\u001b[49m\n\u001b[32m    965\u001b[39m \u001b[43m        \u001b[49m\u001b[43mfiles\u001b[49m\u001b[43m=\u001b[49m\u001b[43mfiles\u001b[49m\u001b[43m,\u001b[49m\n\u001b[32m    966\u001b[39m \u001b[43m        \u001b[49m\u001b[43mjson\u001b[49m\u001b[43m=\u001b[49m\u001b[43mjson\u001b[49m\u001b[43m,\u001b[49m\n\u001b[32m    967\u001b[39m \u001b[43m        \u001b[49m\u001b[43mmethod\u001b[49m\u001b[43m=\u001b[49m\u001b[43mmethod\u001b[49m\u001b[43m,\u001b[49m\n\u001b[32m    968\u001b[39m \u001b[43m        \u001b[49m\u001b[43mparams\u001b[49m\u001b[43m=\u001b[49m\u001b[43mparams\u001b[49m\u001b[43m,\u001b[49m\n\u001b[32m    969\u001b[39m \u001b[43m        \u001b[49m\u001b[43mpath\u001b[49m\u001b[43m=\u001b[49m\u001b[43mpath\u001b[49m\u001b[43m,\u001b[49m\n\u001b[32m    970\u001b[39m \u001b[43m    \u001b[49m\u001b[43m)\u001b[49m\n\u001b[32m    971\u001b[39m \u001b[38;5;28;01mexcept\u001b[39;00m BadRequest \u001b[38;5;28;01mas\u001b[39;00m exception:\n\u001b[32m    972\u001b[39m     \u001b[38;5;28;01mtry\u001b[39;00m:\n",
      "\u001b[36mFile \u001b[39m\u001b[32m~\\anaconda3\\envs\\wif3009\\Lib\\site-packages\\prawcore\\sessions.py:328\u001b[39m, in \u001b[36mSession.request\u001b[39m\u001b[34m(self, method, path, data, files, json, params, timeout)\u001b[39m\n\u001b[32m    326\u001b[39m     json[\u001b[33m\"\u001b[39m\u001b[33mapi_type\u001b[39m\u001b[33m\"\u001b[39m] = \u001b[33m\"\u001b[39m\u001b[33mjson\u001b[39m\u001b[33m\"\u001b[39m\n\u001b[32m    327\u001b[39m url = urljoin(\u001b[38;5;28mself\u001b[39m._requestor.oauth_url, path)\n\u001b[32m--> \u001b[39m\u001b[32m328\u001b[39m \u001b[38;5;28;01mreturn\u001b[39;00m \u001b[38;5;28;43mself\u001b[39;49m\u001b[43m.\u001b[49m\u001b[43m_request_with_retries\u001b[49m\u001b[43m(\u001b[49m\n\u001b[32m    329\u001b[39m \u001b[43m    \u001b[49m\u001b[43mdata\u001b[49m\u001b[43m=\u001b[49m\u001b[43mdata\u001b[49m\u001b[43m,\u001b[49m\n\u001b[32m    330\u001b[39m \u001b[43m    \u001b[49m\u001b[43mfiles\u001b[49m\u001b[43m=\u001b[49m\u001b[43mfiles\u001b[49m\u001b[43m,\u001b[49m\n\u001b[32m    331\u001b[39m \u001b[43m    \u001b[49m\u001b[43mjson\u001b[49m\u001b[43m=\u001b[49m\u001b[43mjson\u001b[49m\u001b[43m,\u001b[49m\n\u001b[32m    332\u001b[39m \u001b[43m    \u001b[49m\u001b[43mmethod\u001b[49m\u001b[43m=\u001b[49m\u001b[43mmethod\u001b[49m\u001b[43m,\u001b[49m\n\u001b[32m    333\u001b[39m \u001b[43m    \u001b[49m\u001b[43mparams\u001b[49m\u001b[43m=\u001b[49m\u001b[43mparams\u001b[49m\u001b[43m,\u001b[49m\n\u001b[32m    334\u001b[39m \u001b[43m    \u001b[49m\u001b[43mtimeout\u001b[49m\u001b[43m=\u001b[49m\u001b[43mtimeout\u001b[49m\u001b[43m,\u001b[49m\n\u001b[32m    335\u001b[39m \u001b[43m    \u001b[49m\u001b[43murl\u001b[49m\u001b[43m=\u001b[49m\u001b[43murl\u001b[49m\u001b[43m,\u001b[49m\n\u001b[32m    336\u001b[39m \u001b[43m\u001b[49m\u001b[43m)\u001b[49m\n",
      "\u001b[36mFile \u001b[39m\u001b[32m~\\anaconda3\\envs\\wif3009\\Lib\\site-packages\\prawcore\\sessions.py:234\u001b[39m, in \u001b[36mSession._request_with_retries\u001b[39m\u001b[34m(self, data, files, json, method, params, timeout, url, retry_strategy_state)\u001b[39m\n\u001b[32m    232\u001b[39m retry_strategy_state.sleep()\n\u001b[32m    233\u001b[39m \u001b[38;5;28mself\u001b[39m._log_request(data, method, params, url)\n\u001b[32m--> \u001b[39m\u001b[32m234\u001b[39m response, saved_exception = \u001b[38;5;28;43mself\u001b[39;49m\u001b[43m.\u001b[49m\u001b[43m_make_request\u001b[49m\u001b[43m(\u001b[49m\n\u001b[32m    235\u001b[39m \u001b[43m    \u001b[49m\u001b[43mdata\u001b[49m\u001b[43m,\u001b[49m\n\u001b[32m    236\u001b[39m \u001b[43m    \u001b[49m\u001b[43mfiles\u001b[49m\u001b[43m,\u001b[49m\n\u001b[32m    237\u001b[39m \u001b[43m    \u001b[49m\u001b[43mjson\u001b[49m\u001b[43m,\u001b[49m\n\u001b[32m    238\u001b[39m \u001b[43m    \u001b[49m\u001b[43mmethod\u001b[49m\u001b[43m,\u001b[49m\n\u001b[32m    239\u001b[39m \u001b[43m    \u001b[49m\u001b[43mparams\u001b[49m\u001b[43m,\u001b[49m\n\u001b[32m    240\u001b[39m \u001b[43m    \u001b[49m\u001b[43mretry_strategy_state\u001b[49m\u001b[43m,\u001b[49m\n\u001b[32m    241\u001b[39m \u001b[43m    \u001b[49m\u001b[43mtimeout\u001b[49m\u001b[43m,\u001b[49m\n\u001b[32m    242\u001b[39m \u001b[43m    \u001b[49m\u001b[43murl\u001b[49m\u001b[43m,\u001b[49m\n\u001b[32m    243\u001b[39m \u001b[43m\u001b[49m\u001b[43m)\u001b[49m\n\u001b[32m    245\u001b[39m do_retry = \u001b[38;5;28;01mFalse\u001b[39;00m\n\u001b[32m    246\u001b[39m \u001b[38;5;28;01mif\u001b[39;00m response \u001b[38;5;129;01mis\u001b[39;00m \u001b[38;5;129;01mnot\u001b[39;00m \u001b[38;5;28;01mNone\u001b[39;00m \u001b[38;5;129;01mand\u001b[39;00m response.status_code == codes[\u001b[33m\"\u001b[39m\u001b[33munauthorized\u001b[39m\u001b[33m\"\u001b[39m]:\n",
      "\u001b[36mFile \u001b[39m\u001b[32m~\\anaconda3\\envs\\wif3009\\Lib\\site-packages\\prawcore\\sessions.py:186\u001b[39m, in \u001b[36mSession._make_request\u001b[39m\u001b[34m(self, data, files, json, method, params, retry_strategy_state, timeout, url)\u001b[39m\n\u001b[32m    174\u001b[39m \u001b[38;5;28;01mdef\u001b[39;00m\u001b[38;5;250m \u001b[39m\u001b[34m_make_request\u001b[39m(\n\u001b[32m    175\u001b[39m     \u001b[38;5;28mself\u001b[39m,\n\u001b[32m    176\u001b[39m     data: \u001b[38;5;28mlist\u001b[39m[\u001b[38;5;28mtuple\u001b[39m[\u001b[38;5;28mstr\u001b[39m, Any]],\n\u001b[32m   (...)\u001b[39m\u001b[32m    183\u001b[39m     url: \u001b[38;5;28mstr\u001b[39m,\n\u001b[32m    184\u001b[39m ) -> \u001b[38;5;28mtuple\u001b[39m[Response, \u001b[38;5;28;01mNone\u001b[39;00m] | \u001b[38;5;28mtuple\u001b[39m[\u001b[38;5;28;01mNone\u001b[39;00m, \u001b[38;5;167;01mException\u001b[39;00m]:\n\u001b[32m    185\u001b[39m     \u001b[38;5;28;01mtry\u001b[39;00m:\n\u001b[32m--> \u001b[39m\u001b[32m186\u001b[39m         response = \u001b[38;5;28;43mself\u001b[39;49m\u001b[43m.\u001b[49m\u001b[43m_rate_limiter\u001b[49m\u001b[43m.\u001b[49m\u001b[43mcall\u001b[49m\u001b[43m(\u001b[49m\n\u001b[32m    187\u001b[39m \u001b[43m            \u001b[49m\u001b[38;5;28;43mself\u001b[39;49m\u001b[43m.\u001b[49m\u001b[43m_requestor\u001b[49m\u001b[43m.\u001b[49m\u001b[43mrequest\u001b[49m\u001b[43m,\u001b[49m\n\u001b[32m    188\u001b[39m \u001b[43m            \u001b[49m\u001b[38;5;28;43mself\u001b[39;49m\u001b[43m.\u001b[49m\u001b[43m_set_header_callback\u001b[49m\u001b[43m,\u001b[49m\n\u001b[32m    189\u001b[39m \u001b[43m            \u001b[49m\u001b[43mmethod\u001b[49m\u001b[43m,\u001b[49m\n\u001b[32m    190\u001b[39m \u001b[43m            \u001b[49m\u001b[43murl\u001b[49m\u001b[43m,\u001b[49m\n\u001b[32m    191\u001b[39m \u001b[43m            \u001b[49m\u001b[43mallow_redirects\u001b[49m\u001b[43m=\u001b[49m\u001b[38;5;28;43;01mFalse\u001b[39;49;00m\u001b[43m,\u001b[49m\n\u001b[32m    192\u001b[39m \u001b[43m            \u001b[49m\u001b[43mdata\u001b[49m\u001b[43m=\u001b[49m\u001b[43mdata\u001b[49m\u001b[43m,\u001b[49m\n\u001b[32m    193\u001b[39m \u001b[43m            \u001b[49m\u001b[43mfiles\u001b[49m\u001b[43m=\u001b[49m\u001b[43mfiles\u001b[49m\u001b[43m,\u001b[49m\n\u001b[32m    194\u001b[39m \u001b[43m            \u001b[49m\u001b[43mjson\u001b[49m\u001b[43m=\u001b[49m\u001b[43mjson\u001b[49m\u001b[43m,\u001b[49m\n\u001b[32m    195\u001b[39m \u001b[43m            \u001b[49m\u001b[43mparams\u001b[49m\u001b[43m=\u001b[49m\u001b[43mparams\u001b[49m\u001b[43m,\u001b[49m\n\u001b[32m    196\u001b[39m \u001b[43m            \u001b[49m\u001b[43mtimeout\u001b[49m\u001b[43m=\u001b[49m\u001b[43mtimeout\u001b[49m\u001b[43m,\u001b[49m\n\u001b[32m    197\u001b[39m \u001b[43m        \u001b[49m\u001b[43m)\u001b[49m\n\u001b[32m    198\u001b[39m         log.debug(\n\u001b[32m    199\u001b[39m             \u001b[33m\"\u001b[39m\u001b[33mResponse: \u001b[39m\u001b[38;5;132;01m%s\u001b[39;00m\u001b[33m (\u001b[39m\u001b[38;5;132;01m%s\u001b[39;00m\u001b[33m bytes) (rst-\u001b[39m\u001b[38;5;132;01m%s\u001b[39;00m\u001b[33m:rem-\u001b[39m\u001b[38;5;132;01m%s\u001b[39;00m\u001b[33m:used-\u001b[39m\u001b[38;5;132;01m%s\u001b[39;00m\u001b[33m ratelimit) at \u001b[39m\u001b[38;5;132;01m%s\u001b[39;00m\u001b[33m\"\u001b[39m,\n\u001b[32m    200\u001b[39m             response.status_code,\n\u001b[32m   (...)\u001b[39m\u001b[32m    205\u001b[39m             time.time(),\n\u001b[32m    206\u001b[39m         )\n\u001b[32m    207\u001b[39m         \u001b[38;5;28;01mreturn\u001b[39;00m response, \u001b[38;5;28;01mNone\u001b[39;00m\n",
      "\u001b[36mFile \u001b[39m\u001b[32m~\\anaconda3\\envs\\wif3009\\Lib\\site-packages\\prawcore\\rate_limit.py:46\u001b[39m, in \u001b[36mRateLimiter.call\u001b[39m\u001b[34m(self, request_function, set_header_callback, *args, **kwargs)\u001b[39m\n\u001b[32m     36\u001b[39m \u001b[38;5;250m\u001b[39m\u001b[33;03m\"\"\"Rate limit the call to ``request_function``.\u001b[39;00m\n\u001b[32m     37\u001b[39m \n\u001b[32m     38\u001b[39m \u001b[33;03m:param request_function: A function call that returns an HTTP response object.\u001b[39;00m\n\u001b[32m   (...)\u001b[39m\u001b[32m     43\u001b[39m \n\u001b[32m     44\u001b[39m \u001b[33;03m\"\"\"\u001b[39;00m\n\u001b[32m     45\u001b[39m \u001b[38;5;28mself\u001b[39m.delay()\n\u001b[32m---> \u001b[39m\u001b[32m46\u001b[39m kwargs[\u001b[33m\"\u001b[39m\u001b[33mheaders\u001b[39m\u001b[33m\"\u001b[39m] = \u001b[43mset_header_callback\u001b[49m\u001b[43m(\u001b[49m\u001b[43m)\u001b[49m\n\u001b[32m     47\u001b[39m response = request_function(*args, **kwargs)\n\u001b[32m     48\u001b[39m \u001b[38;5;28mself\u001b[39m.update(response.headers)\n",
      "\u001b[36mFile \u001b[39m\u001b[32m~\\anaconda3\\envs\\wif3009\\Lib\\site-packages\\prawcore\\sessions.py:282\u001b[39m, in \u001b[36mSession._set_header_callback\u001b[39m\u001b[34m(self)\u001b[39m\n\u001b[32m    280\u001b[39m \u001b[38;5;28;01mdef\u001b[39;00m\u001b[38;5;250m \u001b[39m\u001b[34m_set_header_callback\u001b[39m(\u001b[38;5;28mself\u001b[39m) -> \u001b[38;5;28mdict\u001b[39m[\u001b[38;5;28mstr\u001b[39m, \u001b[38;5;28mstr\u001b[39m]:\n\u001b[32m    281\u001b[39m     \u001b[38;5;28;01mif\u001b[39;00m \u001b[38;5;129;01mnot\u001b[39;00m \u001b[38;5;28mself\u001b[39m._authorizer.is_valid() \u001b[38;5;129;01mand\u001b[39;00m \u001b[38;5;28mhasattr\u001b[39m(\u001b[38;5;28mself\u001b[39m._authorizer, \u001b[33m\"\u001b[39m\u001b[33mrefresh\u001b[39m\u001b[33m\"\u001b[39m):\n\u001b[32m--> \u001b[39m\u001b[32m282\u001b[39m         \u001b[38;5;28;43mself\u001b[39;49m\u001b[43m.\u001b[49m\u001b[43m_authorizer\u001b[49m\u001b[43m.\u001b[49m\u001b[43mrefresh\u001b[49m\u001b[43m(\u001b[49m\u001b[43m)\u001b[49m\n\u001b[32m    283\u001b[39m     \u001b[38;5;28;01mreturn\u001b[39;00m {\u001b[33m\"\u001b[39m\u001b[33mAuthorization\u001b[39m\u001b[33m\"\u001b[39m: \u001b[33mf\u001b[39m\u001b[33m\"\u001b[39m\u001b[33mbearer \u001b[39m\u001b[38;5;132;01m{\u001b[39;00m\u001b[38;5;28mself\u001b[39m._authorizer.access_token\u001b[38;5;132;01m}\u001b[39;00m\u001b[33m\"\u001b[39m}\n",
      "\u001b[36mFile \u001b[39m\u001b[32m~\\anaconda3\\envs\\wif3009\\Lib\\site-packages\\prawcore\\auth.py:425\u001b[39m, in \u001b[36mScriptAuthorizer.refresh\u001b[39m\u001b[34m(self)\u001b[39m\n\u001b[32m    423\u001b[39m \u001b[38;5;28;01mif\u001b[39;00m two_factor_code:\n\u001b[32m    424\u001b[39m     additional_kwargs[\u001b[33m\"\u001b[39m\u001b[33motp\u001b[39m\u001b[33m\"\u001b[39m] = two_factor_code\n\u001b[32m--> \u001b[39m\u001b[32m425\u001b[39m \u001b[38;5;28;43mself\u001b[39;49m\u001b[43m.\u001b[49m\u001b[43m_request_token\u001b[49m\u001b[43m(\u001b[49m\n\u001b[32m    426\u001b[39m \u001b[43m    \u001b[49m\u001b[43mgrant_type\u001b[49m\u001b[43m=\u001b[49m\u001b[33;43m\"\u001b[39;49m\u001b[33;43mpassword\u001b[39;49m\u001b[33;43m\"\u001b[39;49m\u001b[43m,\u001b[49m\n\u001b[32m    427\u001b[39m \u001b[43m    \u001b[49m\u001b[43musername\u001b[49m\u001b[43m=\u001b[49m\u001b[38;5;28;43mself\u001b[39;49m\u001b[43m.\u001b[49m\u001b[43m_username\u001b[49m\u001b[43m,\u001b[49m\n\u001b[32m    428\u001b[39m \u001b[43m    \u001b[49m\u001b[43mpassword\u001b[49m\u001b[43m=\u001b[49m\u001b[38;5;28;43mself\u001b[39;49m\u001b[43m.\u001b[49m\u001b[43m_password\u001b[49m\u001b[43m,\u001b[49m\n\u001b[32m    429\u001b[39m \u001b[43m    \u001b[49m\u001b[43m*\u001b[49m\u001b[43m*\u001b[49m\u001b[43madditional_kwargs\u001b[49m\u001b[43m,\u001b[49m\n\u001b[32m    430\u001b[39m \u001b[43m\u001b[49m\u001b[43m)\u001b[49m\n",
      "\u001b[36mFile \u001b[39m\u001b[32m~\\anaconda3\\envs\\wif3009\\Lib\\site-packages\\prawcore\\auth.py:158\u001b[39m, in \u001b[36mBaseAuthorizer._request_token\u001b[39m\u001b[34m(self, **data)\u001b[39m\n\u001b[32m    156\u001b[39m payload = response.json()\n\u001b[32m    157\u001b[39m \u001b[38;5;28;01mif\u001b[39;00m \u001b[33m\"\u001b[39m\u001b[33merror\u001b[39m\u001b[33m\"\u001b[39m \u001b[38;5;129;01min\u001b[39;00m payload:  \u001b[38;5;66;03m# Why are these OKAY responses?\u001b[39;00m\n\u001b[32m--> \u001b[39m\u001b[32m158\u001b[39m     \u001b[38;5;28;01mraise\u001b[39;00m OAuthException(\n\u001b[32m    159\u001b[39m         response, payload[\u001b[33m\"\u001b[39m\u001b[33merror\u001b[39m\u001b[33m\"\u001b[39m], payload.get(\u001b[33m\"\u001b[39m\u001b[33merror_description\u001b[39m\u001b[33m\"\u001b[39m)\n\u001b[32m    160\u001b[39m     )\n\u001b[32m    162\u001b[39m \u001b[38;5;28mself\u001b[39m._expiration_timestamp = pre_request_time - \u001b[32m10\u001b[39m + payload[\u001b[33m\"\u001b[39m\u001b[33mexpires_in\u001b[39m\u001b[33m\"\u001b[39m]\n\u001b[32m    163\u001b[39m \u001b[38;5;28mself\u001b[39m.access_token = payload[\u001b[33m\"\u001b[39m\u001b[33maccess_token\u001b[39m\u001b[33m\"\u001b[39m]\n",
      "\u001b[31mOAuthException\u001b[39m: invalid_grant error processing request"
     ]
    }
   ],
   "source": [
    "import praw\n",
    "\n",
    "client_id = \"1Z9QJVRYeyqdDPGmTfFuOg\"  # Replace with your client_id\n",
    "client_secret = \"pKtQCeehtl8-LfNUgTO9llxZjXx5iw\"  # Replace with your client_secret\n",
    "username = \"Successful_Cat_6509\"  # Replace with your Reddit username\n",
    "password = \"D@H$Y_0100100\"  # Replace with your Reddit password\n",
    "\n",
    "reddit = praw.Reddit(client_id=client_id,\n",
    "                     client_secret=client_secret,\n",
    "                     username=username,\n",
    "                     password=password,\n",
    "                     user_agent=\"MemecoinAnalysisScript/v0.1 (by /u/Successful_Cat_6509)\")\n",
    "\n",
    "# Now you can start interacting with the Reddit API using the 'reddit' object\n",
    "# For example:\n",
    "subreddit = reddit.subreddit(\"memecoins\")\n",
    "for submission in subreddit.hot(limit=5):\n",
    "    print(submission.title)"
   ]
  },
  {
   "cell_type": "code",
   "execution_count": null,
   "id": "4ac8f564-f9bc-42a6-8cef-60681a5135d0",
   "metadata": {},
   "outputs": [],
   "source": [
    "!pip show praw"
   ]
  },
  {
   "cell_type": "code",
   "execution_count": 3,
   "id": "1a117ce3-5e8e-4d85-8f83-cbd5f146d75e",
   "metadata": {},
   "outputs": [
    {
     "name": "stdout",
     "output_type": "stream",
     "text": [
      "Requirement already satisfied: textblob in c:\\users\\den51\\anaconda3\\envs\\wif3009\\lib\\site-packages (0.19.0)\n",
      "Requirement already satisfied: nltk>=3.9 in c:\\users\\den51\\anaconda3\\envs\\wif3009\\lib\\site-packages (from textblob) (3.9.1)\n",
      "Requirement already satisfied: click in c:\\users\\den51\\anaconda3\\envs\\wif3009\\lib\\site-packages (from nltk>=3.9->textblob) (8.1.8)\n",
      "Requirement already satisfied: joblib in c:\\users\\den51\\anaconda3\\envs\\wif3009\\lib\\site-packages (from nltk>=3.9->textblob) (1.4.2)\n",
      "Requirement already satisfied: regex>=2021.8.3 in c:\\users\\den51\\anaconda3\\envs\\wif3009\\lib\\site-packages (from nltk>=3.9->textblob) (2024.11.6)\n",
      "Requirement already satisfied: tqdm in c:\\users\\den51\\anaconda3\\envs\\wif3009\\lib\\site-packages (from nltk>=3.9->textblob) (4.67.1)\n",
      "Requirement already satisfied: colorama in c:\\users\\den51\\appdata\\roaming\\python\\python311\\site-packages (from click->nltk>=3.9->textblob) (0.4.6)\n"
     ]
    }
   ],
   "source": [
    "!pip install textblob"
   ]
  },
  {
   "cell_type": "code",
   "execution_count": 1,
   "id": "e57c90c7-1e6a-4594-884a-dd7a0a486df1",
   "metadata": {},
   "outputs": [
    {
     "ename": "TypeError",
     "evalue": "Auth.url() got an unexpected keyword argument 'scope'",
     "output_type": "error",
     "traceback": [
      "\u001b[31m---------------------------------------------------------------------------\u001b[39m",
      "\u001b[31mTypeError\u001b[39m                                 Traceback (most recent call last)",
      "\u001b[36mCell\u001b[39m\u001b[36m \u001b[39m\u001b[32mIn[1]\u001b[39m\u001b[32m, line 23\u001b[39m\n\u001b[32m     17\u001b[39m reddit = praw.Reddit(client_id=CLIENT_ID,\n\u001b[32m     18\u001b[39m                      client_secret=CLIENT_SECRET,\n\u001b[32m     19\u001b[39m                      redirect_uri=REDIRECT_URI,\n\u001b[32m     20\u001b[39m                      user_agent=USER_AGENT)\n\u001b[32m     22\u001b[39m \u001b[38;5;66;03m# Get the authorization URL\u001b[39;00m\n\u001b[32m---> \u001b[39m\u001b[32m23\u001b[39m auth_url = \u001b[43mreddit\u001b[49m\u001b[43m.\u001b[49m\u001b[43mauth\u001b[49m\u001b[43m.\u001b[49m\u001b[43murl\u001b[49m\u001b[43m(\u001b[49m\u001b[43mscope\u001b[49m\u001b[43m=\u001b[49m\u001b[43m[\u001b[49m\u001b[33;43m\"\u001b[39;49m\u001b[33;43midentity\u001b[39;49m\u001b[33;43m\"\u001b[39;49m\u001b[43m,\u001b[49m\u001b[43m \u001b[49m\u001b[33;43m\"\u001b[39;49m\u001b[33;43mread\u001b[39;49m\u001b[33;43m\"\u001b[39;49m\u001b[43m,\u001b[49m\u001b[43m \u001b[49m\u001b[33;43m\"\u001b[39;49m\u001b[33;43msubmit\u001b[39;49m\u001b[33;43m\"\u001b[39;49m\u001b[43m]\u001b[49m\u001b[43m,\u001b[49m\n\u001b[32m     24\u001b[39m \u001b[43m                          \u001b[49m\u001b[43mstate\u001b[49m\u001b[43m=\u001b[49m\u001b[33;43m\"\u001b[39;49m\u001b[33;43myour_random_state\u001b[39;49m\u001b[33;43m\"\u001b[39;49m\u001b[43m)\u001b[49m  \u001b[38;5;66;03m# Add other scopes as needed\u001b[39;00m\n\u001b[32m     26\u001b[39m \u001b[38;5;28mprint\u001b[39m(\u001b[33mf\u001b[39m\u001b[33m\"\u001b[39m\u001b[33mOpen this URL in your browser to authorize the application:\u001b[39m\u001b[38;5;130;01m\\n\u001b[39;00m\u001b[38;5;132;01m{\u001b[39;00mauth_url\u001b[38;5;132;01m}\u001b[39;00m\u001b[38;5;130;01m\\n\u001b[39;00m\u001b[33m\"\u001b[39m)\n\u001b[32m     28\u001b[39m \u001b[38;5;66;03m# You will be redirected to http://localhost:8080/?state=your_random_state&code=YOUR_AUTHORIZATION_CODE\u001b[39;00m\n\u001b[32m     29\u001b[39m \u001b[38;5;66;03m# Copy the value of 'code' from the URL in your browser.\u001b[39;00m\n",
      "\u001b[36mFile \u001b[39m\u001b[32m~\\anaconda3\\envs\\wif3009\\Lib\\site-packages\\praw\\util\\deprecate_args.py:46\u001b[39m, in \u001b[36m_deprecate_args.<locals>.wrapper.<locals>.wrapped\u001b[39m\u001b[34m(*args, **kwargs)\u001b[39m\n\u001b[32m     39\u001b[39m     arg_string = _generate_arg_string(_old_args[: \u001b[38;5;28mlen\u001b[39m(args)])\n\u001b[32m     40\u001b[39m     warn(\n\u001b[32m     41\u001b[39m         \u001b[33mf\u001b[39m\u001b[33m\"\u001b[39m\u001b[33mPositional arguments for \u001b[39m\u001b[38;5;132;01m{\u001b[39;00mfunc.\u001b[34m__qualname__\u001b[39m\u001b[38;5;132;01m!r}\u001b[39;00m\u001b[33m will no longer be\u001b[39m\u001b[33m\"\u001b[39m\n\u001b[32m     42\u001b[39m         \u001b[33mf\u001b[39m\u001b[33m\"\u001b[39m\u001b[33m supported in PRAW 8.\u001b[39m\u001b[38;5;130;01m\\n\u001b[39;00m\u001b[33mCall this function with \u001b[39m\u001b[38;5;132;01m{\u001b[39;00marg_string\u001b[38;5;132;01m}\u001b[39;00m\u001b[33m.\u001b[39m\u001b[33m\"\u001b[39m,\n\u001b[32m     43\u001b[39m         \u001b[38;5;167;01mDeprecationWarning\u001b[39;00m,\n\u001b[32m     44\u001b[39m         stacklevel=\u001b[32m2\u001b[39m,\n\u001b[32m     45\u001b[39m     )\n\u001b[32m---> \u001b[39m\u001b[32m46\u001b[39m \u001b[38;5;28;01mreturn\u001b[39;00m \u001b[43mfunc\u001b[49m\u001b[43m(\u001b[49m\u001b[43m*\u001b[49m\u001b[43m*\u001b[49m\u001b[38;5;28;43mdict\u001b[39;49m\u001b[43m(\u001b[49m\u001b[38;5;28;43mzip\u001b[39;49m\u001b[43m(\u001b[49m\u001b[43m_old_args\u001b[49m\u001b[43m,\u001b[49m\u001b[43m \u001b[49m\u001b[43margs\u001b[49m\u001b[43m)\u001b[49m\u001b[43m)\u001b[49m\u001b[43m,\u001b[49m\u001b[43m \u001b[49m\u001b[43m*\u001b[49m\u001b[43m*\u001b[49m\u001b[43mkwargs\u001b[49m\u001b[43m)\u001b[49m\n",
      "\u001b[31mTypeError\u001b[39m: Auth.url() got an unexpected keyword argument 'scope'"
     ]
    }
   ],
   "source": [
    "import praw\n",
    "import os\n",
    "import webbrowser\n",
    "import time\n",
    "\n",
    "# Replace with your actual app name and version\n",
    "APP_NAME = \"MemecoinAnalysisScript\"\n",
    "APP_VERSION = \"v0.2\"\n",
    "REDDIT_USERNAME = \"Successful_Cat_6509\"  # Replace with your Reddit username\n",
    "\n",
    "CLIENT_ID = \"1Z9QJVRYeyqdDPGmTfFuOg\"  # Replace with your client_id\n",
    "CLIENT_SECRET = \"pKtQCeehtl8-LfNUgTO9llxZjXx5iw\"  # Replace with your client_secret\n",
    "REDIRECT_URI = \"http://localhost:8080\"\n",
    "USER_AGENT = f\"{APP_NAME}/{APP_VERSION} (by /u/{REDDIT_USERNAME})\"\n",
    "\n",
    "# Initialize PRAW for the first time to get the authorization URL\n",
    "reddit = praw.Reddit(client_id=CLIENT_ID,\n",
    "                     client_secret=CLIENT_SECRET,\n",
    "                     redirect_uri=REDIRECT_URI,\n",
    "                     user_agent=USER_AGENT)\n",
    "\n",
    "# Get the authorization URL\n",
    "auth_url = reddit.auth.url(scope=[\"identity\", \"read\", \"submit\"],\n",
    "                          state=\"your_random_state\")  # Add other scopes as needed\n",
    "\n",
    "print(f\"Open this URL in your browser to authorize the application:\\n{auth_url}\\n\")\n",
    "\n",
    "# You will be redirected to http://localhost:8080/?state=your_random_state&code=YOUR_AUTHORIZATION_CODE\n",
    "# Copy the value of 'code' from the URL in your browser.\n",
    "authorization_code = input(\"Enter the authorization code you received: \")\n",
    "\n",
    "try:\n",
    "    token_info = reddit.auth.authorize(authorization_code)\n",
    "    print(\"\\nAuthorization successful!\")\n",
    "    print(\"Access token:\", token_info['access_token'])\n",
    "    print(\"Refresh token:\", token_info['refresh_token'])\n",
    "\n",
    "    # Store the refresh token securely (e.g., in an environment variable or a file)\n",
    "    os.environ['REDDIT_REFRESH_TOKEN'] = token_info['refresh_token']\n",
    "    print(\"\\nRefresh token stored in environment variable 'REDDIT_REFRESH_TOKEN'.\")\n",
    "\n",
    "except praw.exceptions.OAuthException as e:\n",
    "    print(f\"\\nOAuthException: {e}\")\n",
    "    print(\"\\nFailed to obtain access and refresh tokens.\")\n",
    "    print(\"Double-check your authorization code and redirect URI.\")\n",
    "    exit()\n",
    "\n",
    "# Initialize PRAW using the refresh token for subsequent runs\n",
    "reddit = praw.Reddit(client_id=CLIENT_ID,\n",
    "                     client_secret=CLIENT_SECRET,\n",
    "                     refresh_token=os.environ.get(\"REDDIT_REFRESH_TOKEN\"),\n",
    "                     user_agent=USER_AGENT)\n",
    "\n",
    "print(\"\\nSuccessfully initialized PRAW with refresh token.\")\n",
    "\n",
    "# Now you can use the 'reddit' object to interact with the API\n",
    "subreddit = reddit.subreddit(\"memecoins\")\n",
    "print(f\"\\nGetting hot posts from r/{subreddit.display_name}:\")\n",
    "for submission in subreddit.hot(limit=5):\n",
    "    print(f\"Title: {submission.title}\")\n",
    "    print(f\"Author: /u/{submission.author.name if submission.author else '[deleted]'}\")\n",
    "    print(f\"Score: {submission.score}\")\n",
    "    print(\"-\" * 20)"
   ]
  },
  {
   "cell_type": "code",
   "execution_count": 3,
   "id": "453bd6ca-ab07-44c5-8bfc-b2a086c03fd1",
   "metadata": {},
   "outputs": [
    {
     "ename": "RequestException",
     "evalue": "error with request HTTPSConnectionPool(host='oauth.reddit.com', port=443): Max retries exceeded with url: /api/morechildren/?raw_json=1 (Caused by NameResolutionError(\"<urllib3.connection.HTTPSConnection object at 0x00000295778EC310>: Failed to resolve 'oauth.reddit.com' ([Errno 11001] getaddrinfo failed)\"))",
     "output_type": "error",
     "traceback": [
      "\u001b[31m---------------------------------------------------------------------------\u001b[39m",
      "\u001b[31mRequestException\u001b[39m                          Traceback (most recent call last)",
      "\u001b[36mCell\u001b[39m\u001b[36m \u001b[39m\u001b[32mIn[3]\u001b[39m\u001b[32m, line 27\u001b[39m\n\u001b[32m     18\u001b[39m sentiment = TextBlob(text).sentiment\n\u001b[32m     19\u001b[39m sentiment_data.append({\n\u001b[32m     20\u001b[39m     \u001b[33m'\u001b[39m\u001b[33mplatform\u001b[39m\u001b[33m'\u001b[39m: \u001b[33m'\u001b[39m\u001b[33mReddit\u001b[39m\u001b[33m'\u001b[39m,\n\u001b[32m     21\u001b[39m     \u001b[33m'\u001b[39m\u001b[33msubreddit\u001b[39m\u001b[33m'\u001b[39m: \u001b[33m'\u001b[39m\u001b[33mCryptoCurrency\u001b[39m\u001b[33m'\u001b[39m,\n\u001b[32m   (...)\u001b[39m\u001b[32m     25\u001b[39m     \u001b[33m'\u001b[39m\u001b[33msubjectivity\u001b[39m\u001b[33m'\u001b[39m: sentiment.subjectivity\n\u001b[32m     26\u001b[39m })\n\u001b[32m---> \u001b[39m\u001b[32m27\u001b[39m \u001b[43mpost\u001b[49m\u001b[43m.\u001b[49m\u001b[43mcomments\u001b[49m\u001b[43m.\u001b[49m\u001b[43mreplace_more\u001b[49m\u001b[43m(\u001b[49m\u001b[43mlimit\u001b[49m\u001b[43m=\u001b[49m\u001b[38;5;28;43;01mNone\u001b[39;49;00m\u001b[43m)\u001b[49m\n\u001b[32m     28\u001b[39m \u001b[38;5;28;01mfor\u001b[39;00m comment \u001b[38;5;129;01min\u001b[39;00m post.comments:\n\u001b[32m     29\u001b[39m     sentiment = TextBlob(comment.body).sentiment\n",
      "\u001b[36mFile \u001b[39m\u001b[32m~\\anaconda3\\envs\\wif3009\\Lib\\site-packages\\praw\\util\\deprecate_args.py:46\u001b[39m, in \u001b[36m_deprecate_args.<locals>.wrapper.<locals>.wrapped\u001b[39m\u001b[34m(*args, **kwargs)\u001b[39m\n\u001b[32m     39\u001b[39m     arg_string = _generate_arg_string(_old_args[: \u001b[38;5;28mlen\u001b[39m(args)])\n\u001b[32m     40\u001b[39m     warn(\n\u001b[32m     41\u001b[39m         \u001b[33mf\u001b[39m\u001b[33m\"\u001b[39m\u001b[33mPositional arguments for \u001b[39m\u001b[38;5;132;01m{\u001b[39;00mfunc.\u001b[34m__qualname__\u001b[39m\u001b[38;5;132;01m!r}\u001b[39;00m\u001b[33m will no longer be\u001b[39m\u001b[33m\"\u001b[39m\n\u001b[32m     42\u001b[39m         \u001b[33mf\u001b[39m\u001b[33m\"\u001b[39m\u001b[33m supported in PRAW 8.\u001b[39m\u001b[38;5;130;01m\\n\u001b[39;00m\u001b[33mCall this function with \u001b[39m\u001b[38;5;132;01m{\u001b[39;00marg_string\u001b[38;5;132;01m}\u001b[39;00m\u001b[33m.\u001b[39m\u001b[33m\"\u001b[39m,\n\u001b[32m     43\u001b[39m         \u001b[38;5;167;01mDeprecationWarning\u001b[39;00m,\n\u001b[32m     44\u001b[39m         stacklevel=\u001b[32m2\u001b[39m,\n\u001b[32m     45\u001b[39m     )\n\u001b[32m---> \u001b[39m\u001b[32m46\u001b[39m \u001b[38;5;28;01mreturn\u001b[39;00m \u001b[43mfunc\u001b[49m\u001b[43m(\u001b[49m\u001b[43m*\u001b[49m\u001b[43m*\u001b[49m\u001b[38;5;28;43mdict\u001b[39;49m\u001b[43m(\u001b[49m\u001b[38;5;28;43mzip\u001b[39;49m\u001b[43m(\u001b[49m\u001b[43m_old_args\u001b[49m\u001b[43m,\u001b[49m\u001b[43m \u001b[49m\u001b[43margs\u001b[49m\u001b[43m)\u001b[49m\u001b[43m)\u001b[49m\u001b[43m,\u001b[49m\u001b[43m \u001b[49m\u001b[43m*\u001b[49m\u001b[43m*\u001b[49m\u001b[43mkwargs\u001b[49m\u001b[43m)\u001b[49m\n",
      "\u001b[36mFile \u001b[39m\u001b[32m~\\anaconda3\\envs\\wif3009\\Lib\\site-packages\\praw\\models\\comment_forest.py:192\u001b[39m, in \u001b[36mCommentForest.replace_more\u001b[39m\u001b[34m(self, limit, threshold)\u001b[39m\n\u001b[32m    189\u001b[39m     item._remove_from.remove(item)\n\u001b[32m    190\u001b[39m     \u001b[38;5;28;01mcontinue\u001b[39;00m\n\u001b[32m--> \u001b[39m\u001b[32m192\u001b[39m new_comments = \u001b[43mitem\u001b[49m\u001b[43m.\u001b[49m\u001b[43mcomments\u001b[49m\u001b[43m(\u001b[49m\u001b[43mupdate\u001b[49m\u001b[43m=\u001b[49m\u001b[38;5;28;43;01mFalse\u001b[39;49;00m\u001b[43m)\u001b[49m\n\u001b[32m    193\u001b[39m \u001b[38;5;28;01mif\u001b[39;00m remaining \u001b[38;5;129;01mis\u001b[39;00m \u001b[38;5;129;01mnot\u001b[39;00m \u001b[38;5;28;01mNone\u001b[39;00m:\n\u001b[32m    194\u001b[39m     remaining -= \u001b[32m1\u001b[39m\n",
      "\u001b[36mFile \u001b[39m\u001b[32m~\\anaconda3\\envs\\wif3009\\Lib\\site-packages\\praw\\util\\deprecate_args.py:46\u001b[39m, in \u001b[36m_deprecate_args.<locals>.wrapper.<locals>.wrapped\u001b[39m\u001b[34m(*args, **kwargs)\u001b[39m\n\u001b[32m     39\u001b[39m     arg_string = _generate_arg_string(_old_args[: \u001b[38;5;28mlen\u001b[39m(args)])\n\u001b[32m     40\u001b[39m     warn(\n\u001b[32m     41\u001b[39m         \u001b[33mf\u001b[39m\u001b[33m\"\u001b[39m\u001b[33mPositional arguments for \u001b[39m\u001b[38;5;132;01m{\u001b[39;00mfunc.\u001b[34m__qualname__\u001b[39m\u001b[38;5;132;01m!r}\u001b[39;00m\u001b[33m will no longer be\u001b[39m\u001b[33m\"\u001b[39m\n\u001b[32m     42\u001b[39m         \u001b[33mf\u001b[39m\u001b[33m\"\u001b[39m\u001b[33m supported in PRAW 8.\u001b[39m\u001b[38;5;130;01m\\n\u001b[39;00m\u001b[33mCall this function with \u001b[39m\u001b[38;5;132;01m{\u001b[39;00marg_string\u001b[38;5;132;01m}\u001b[39;00m\u001b[33m.\u001b[39m\u001b[33m\"\u001b[39m,\n\u001b[32m     43\u001b[39m         \u001b[38;5;167;01mDeprecationWarning\u001b[39;00m,\n\u001b[32m     44\u001b[39m         stacklevel=\u001b[32m2\u001b[39m,\n\u001b[32m     45\u001b[39m     )\n\u001b[32m---> \u001b[39m\u001b[32m46\u001b[39m \u001b[38;5;28;01mreturn\u001b[39;00m \u001b[43mfunc\u001b[49m\u001b[43m(\u001b[49m\u001b[43m*\u001b[49m\u001b[43m*\u001b[49m\u001b[38;5;28;43mdict\u001b[39;49m\u001b[43m(\u001b[49m\u001b[38;5;28;43mzip\u001b[39;49m\u001b[43m(\u001b[49m\u001b[43m_old_args\u001b[49m\u001b[43m,\u001b[49m\u001b[43m \u001b[49m\u001b[43margs\u001b[49m\u001b[43m)\u001b[49m\u001b[43m)\u001b[49m\u001b[43m,\u001b[49m\u001b[43m \u001b[49m\u001b[43m*\u001b[49m\u001b[43m*\u001b[49m\u001b[43mkwargs\u001b[49m\u001b[43m)\u001b[49m\n",
      "\u001b[36mFile \u001b[39m\u001b[32m~\\anaconda3\\envs\\wif3009\\Lib\\site-packages\\praw\\models\\reddit\\more.py:79\u001b[39m, in \u001b[36mMoreComments.comments\u001b[39m\u001b[34m(self, update)\u001b[39m\n\u001b[32m     73\u001b[39m \u001b[38;5;28;01massert\u001b[39;00m \u001b[38;5;28mself\u001b[39m.children, \u001b[33m\"\u001b[39m\u001b[33mPlease file a bug report with PRAW.\u001b[39m\u001b[33m\"\u001b[39m\n\u001b[32m     74\u001b[39m data = {\n\u001b[32m     75\u001b[39m     \u001b[33m\"\u001b[39m\u001b[33mchildren\u001b[39m\u001b[33m\"\u001b[39m: \u001b[33m\"\u001b[39m\u001b[33m,\u001b[39m\u001b[33m\"\u001b[39m.join(\u001b[38;5;28mself\u001b[39m.children),\n\u001b[32m     76\u001b[39m     \u001b[33m\"\u001b[39m\u001b[33mlink_id\u001b[39m\u001b[33m\"\u001b[39m: \u001b[38;5;28mself\u001b[39m.submission.fullname,\n\u001b[32m     77\u001b[39m     \u001b[33m\"\u001b[39m\u001b[33msort\u001b[39m\u001b[33m\"\u001b[39m: \u001b[38;5;28mself\u001b[39m.submission.comment_sort,\n\u001b[32m     78\u001b[39m }\n\u001b[32m---> \u001b[39m\u001b[32m79\u001b[39m \u001b[38;5;28mself\u001b[39m._comments = \u001b[38;5;28;43mself\u001b[39;49m\u001b[43m.\u001b[49m\u001b[43m_reddit\u001b[49m\u001b[43m.\u001b[49m\u001b[43mpost\u001b[49m\u001b[43m(\u001b[49m\u001b[43mAPI_PATH\u001b[49m\u001b[43m[\u001b[49m\u001b[33;43m\"\u001b[39;49m\u001b[33;43mmorechildren\u001b[39;49m\u001b[33;43m\"\u001b[39;49m\u001b[43m]\u001b[49m\u001b[43m,\u001b[49m\u001b[43m \u001b[49m\u001b[43mdata\u001b[49m\u001b[43m=\u001b[49m\u001b[43mdata\u001b[49m\u001b[43m)\u001b[49m\n\u001b[32m     80\u001b[39m \u001b[38;5;28;01mif\u001b[39;00m update:\n\u001b[32m     81\u001b[39m     \u001b[38;5;28;01mfor\u001b[39;00m comment \u001b[38;5;129;01min\u001b[39;00m \u001b[38;5;28mself\u001b[39m._comments:\n",
      "\u001b[36mFile \u001b[39m\u001b[32m~\\anaconda3\\envs\\wif3009\\Lib\\site-packages\\praw\\util\\deprecate_args.py:46\u001b[39m, in \u001b[36m_deprecate_args.<locals>.wrapper.<locals>.wrapped\u001b[39m\u001b[34m(*args, **kwargs)\u001b[39m\n\u001b[32m     39\u001b[39m     arg_string = _generate_arg_string(_old_args[: \u001b[38;5;28mlen\u001b[39m(args)])\n\u001b[32m     40\u001b[39m     warn(\n\u001b[32m     41\u001b[39m         \u001b[33mf\u001b[39m\u001b[33m\"\u001b[39m\u001b[33mPositional arguments for \u001b[39m\u001b[38;5;132;01m{\u001b[39;00mfunc.\u001b[34m__qualname__\u001b[39m\u001b[38;5;132;01m!r}\u001b[39;00m\u001b[33m will no longer be\u001b[39m\u001b[33m\"\u001b[39m\n\u001b[32m     42\u001b[39m         \u001b[33mf\u001b[39m\u001b[33m\"\u001b[39m\u001b[33m supported in PRAW 8.\u001b[39m\u001b[38;5;130;01m\\n\u001b[39;00m\u001b[33mCall this function with \u001b[39m\u001b[38;5;132;01m{\u001b[39;00marg_string\u001b[38;5;132;01m}\u001b[39;00m\u001b[33m.\u001b[39m\u001b[33m\"\u001b[39m,\n\u001b[32m     43\u001b[39m         \u001b[38;5;167;01mDeprecationWarning\u001b[39;00m,\n\u001b[32m     44\u001b[39m         stacklevel=\u001b[32m2\u001b[39m,\n\u001b[32m     45\u001b[39m     )\n\u001b[32m---> \u001b[39m\u001b[32m46\u001b[39m \u001b[38;5;28;01mreturn\u001b[39;00m \u001b[43mfunc\u001b[49m\u001b[43m(\u001b[49m\u001b[43m*\u001b[49m\u001b[43m*\u001b[49m\u001b[38;5;28;43mdict\u001b[39;49m\u001b[43m(\u001b[49m\u001b[38;5;28;43mzip\u001b[39;49m\u001b[43m(\u001b[49m\u001b[43m_old_args\u001b[49m\u001b[43m,\u001b[49m\u001b[43m \u001b[49m\u001b[43margs\u001b[49m\u001b[43m)\u001b[49m\u001b[43m)\u001b[49m\u001b[43m,\u001b[49m\u001b[43m \u001b[49m\u001b[43m*\u001b[49m\u001b[43m*\u001b[49m\u001b[43mkwargs\u001b[49m\u001b[43m)\u001b[49m\n",
      "\u001b[36mFile \u001b[39m\u001b[32m~\\anaconda3\\envs\\wif3009\\Lib\\site-packages\\praw\\reddit.py:861\u001b[39m, in \u001b[36mReddit.post\u001b[39m\u001b[34m(self, path, data, files, json, params)\u001b[39m\n\u001b[32m    859\u001b[39m attempts -= \u001b[32m1\u001b[39m\n\u001b[32m    860\u001b[39m \u001b[38;5;28;01mtry\u001b[39;00m:\n\u001b[32m--> \u001b[39m\u001b[32m861\u001b[39m     \u001b[38;5;28;01mreturn\u001b[39;00m \u001b[38;5;28;43mself\u001b[39;49m\u001b[43m.\u001b[49m\u001b[43m_objectify_request\u001b[49m\u001b[43m(\u001b[49m\n\u001b[32m    862\u001b[39m \u001b[43m        \u001b[49m\u001b[43mdata\u001b[49m\u001b[43m=\u001b[49m\u001b[43mdata\u001b[49m\u001b[43m,\u001b[49m\n\u001b[32m    863\u001b[39m \u001b[43m        \u001b[49m\u001b[43mfiles\u001b[49m\u001b[43m=\u001b[49m\u001b[43mfiles\u001b[49m\u001b[43m,\u001b[49m\n\u001b[32m    864\u001b[39m \u001b[43m        \u001b[49m\u001b[43mjson\u001b[49m\u001b[43m=\u001b[49m\u001b[43mjson\u001b[49m\u001b[43m,\u001b[49m\n\u001b[32m    865\u001b[39m \u001b[43m        \u001b[49m\u001b[43mmethod\u001b[49m\u001b[43m=\u001b[49m\u001b[33;43m\"\u001b[39;49m\u001b[33;43mPOST\u001b[39;49m\u001b[33;43m\"\u001b[39;49m\u001b[43m,\u001b[49m\n\u001b[32m    866\u001b[39m \u001b[43m        \u001b[49m\u001b[43mparams\u001b[49m\u001b[43m=\u001b[49m\u001b[43mparams\u001b[49m\u001b[43m,\u001b[49m\n\u001b[32m    867\u001b[39m \u001b[43m        \u001b[49m\u001b[43mpath\u001b[49m\u001b[43m=\u001b[49m\u001b[43mpath\u001b[49m\u001b[43m,\u001b[49m\n\u001b[32m    868\u001b[39m \u001b[43m    \u001b[49m\u001b[43m)\u001b[49m\n\u001b[32m    869\u001b[39m \u001b[38;5;28;01mexcept\u001b[39;00m RedditAPIException \u001b[38;5;28;01mas\u001b[39;00m exception:\n\u001b[32m    870\u001b[39m     last_exception = exception\n",
      "\u001b[36mFile \u001b[39m\u001b[32m~\\anaconda3\\envs\\wif3009\\Lib\\site-packages\\praw\\reddit.py:514\u001b[39m, in \u001b[36mReddit._objectify_request\u001b[39m\u001b[34m(self, data, files, json, method, params, path)\u001b[39m\n\u001b[32m    488\u001b[39m \u001b[38;5;28;01mdef\u001b[39;00m\u001b[38;5;250m \u001b[39m\u001b[34m_objectify_request\u001b[39m(\n\u001b[32m    489\u001b[39m     \u001b[38;5;28mself\u001b[39m,\n\u001b[32m    490\u001b[39m     *,\n\u001b[32m   (...)\u001b[39m\u001b[32m    496\u001b[39m     path: \u001b[38;5;28mstr\u001b[39m = \u001b[33m\"\u001b[39m\u001b[33m\"\u001b[39m,\n\u001b[32m    497\u001b[39m ) -> Any:\n\u001b[32m    498\u001b[39m \u001b[38;5;250m    \u001b[39m\u001b[33;03m\"\"\"Run a request through the ``Objector``.\u001b[39;00m\n\u001b[32m    499\u001b[39m \n\u001b[32m    500\u001b[39m \u001b[33;03m    :param data: Dictionary, bytes, or file-like object to send in the body of the\u001b[39;00m\n\u001b[32m   (...)\u001b[39m\u001b[32m    511\u001b[39m \n\u001b[32m    512\u001b[39m \u001b[33;03m    \"\"\"\u001b[39;00m\n\u001b[32m    513\u001b[39m     \u001b[38;5;28;01mreturn\u001b[39;00m \u001b[38;5;28mself\u001b[39m._objector.objectify(\n\u001b[32m--> \u001b[39m\u001b[32m514\u001b[39m         \u001b[38;5;28;43mself\u001b[39;49m\u001b[43m.\u001b[49m\u001b[43mrequest\u001b[49m\u001b[43m(\u001b[49m\n\u001b[32m    515\u001b[39m \u001b[43m            \u001b[49m\u001b[43mdata\u001b[49m\u001b[43m=\u001b[49m\u001b[43mdata\u001b[49m\u001b[43m,\u001b[49m\n\u001b[32m    516\u001b[39m \u001b[43m            \u001b[49m\u001b[43mfiles\u001b[49m\u001b[43m=\u001b[49m\u001b[43mfiles\u001b[49m\u001b[43m,\u001b[49m\n\u001b[32m    517\u001b[39m \u001b[43m            \u001b[49m\u001b[43mjson\u001b[49m\u001b[43m=\u001b[49m\u001b[43mjson\u001b[49m\u001b[43m,\u001b[49m\n\u001b[32m    518\u001b[39m \u001b[43m            \u001b[49m\u001b[43mmethod\u001b[49m\u001b[43m=\u001b[49m\u001b[43mmethod\u001b[49m\u001b[43m,\u001b[49m\n\u001b[32m    519\u001b[39m \u001b[43m            \u001b[49m\u001b[43mparams\u001b[49m\u001b[43m=\u001b[49m\u001b[43mparams\u001b[49m\u001b[43m,\u001b[49m\n\u001b[32m    520\u001b[39m \u001b[43m            \u001b[49m\u001b[43mpath\u001b[49m\u001b[43m=\u001b[49m\u001b[43mpath\u001b[49m\u001b[43m,\u001b[49m\n\u001b[32m    521\u001b[39m \u001b[43m        \u001b[49m\u001b[43m)\u001b[49m\n\u001b[32m    522\u001b[39m     )\n",
      "\u001b[36mFile \u001b[39m\u001b[32m~\\anaconda3\\envs\\wif3009\\Lib\\site-packages\\praw\\util\\deprecate_args.py:46\u001b[39m, in \u001b[36m_deprecate_args.<locals>.wrapper.<locals>.wrapped\u001b[39m\u001b[34m(*args, **kwargs)\u001b[39m\n\u001b[32m     39\u001b[39m     arg_string = _generate_arg_string(_old_args[: \u001b[38;5;28mlen\u001b[39m(args)])\n\u001b[32m     40\u001b[39m     warn(\n\u001b[32m     41\u001b[39m         \u001b[33mf\u001b[39m\u001b[33m\"\u001b[39m\u001b[33mPositional arguments for \u001b[39m\u001b[38;5;132;01m{\u001b[39;00mfunc.\u001b[34m__qualname__\u001b[39m\u001b[38;5;132;01m!r}\u001b[39;00m\u001b[33m will no longer be\u001b[39m\u001b[33m\"\u001b[39m\n\u001b[32m     42\u001b[39m         \u001b[33mf\u001b[39m\u001b[33m\"\u001b[39m\u001b[33m supported in PRAW 8.\u001b[39m\u001b[38;5;130;01m\\n\u001b[39;00m\u001b[33mCall this function with \u001b[39m\u001b[38;5;132;01m{\u001b[39;00marg_string\u001b[38;5;132;01m}\u001b[39;00m\u001b[33m.\u001b[39m\u001b[33m\"\u001b[39m,\n\u001b[32m     43\u001b[39m         \u001b[38;5;167;01mDeprecationWarning\u001b[39;00m,\n\u001b[32m     44\u001b[39m         stacklevel=\u001b[32m2\u001b[39m,\n\u001b[32m     45\u001b[39m     )\n\u001b[32m---> \u001b[39m\u001b[32m46\u001b[39m \u001b[38;5;28;01mreturn\u001b[39;00m \u001b[43mfunc\u001b[49m\u001b[43m(\u001b[49m\u001b[43m*\u001b[49m\u001b[43m*\u001b[49m\u001b[38;5;28;43mdict\u001b[39;49m\u001b[43m(\u001b[49m\u001b[38;5;28;43mzip\u001b[39;49m\u001b[43m(\u001b[49m\u001b[43m_old_args\u001b[49m\u001b[43m,\u001b[49m\u001b[43m \u001b[49m\u001b[43margs\u001b[49m\u001b[43m)\u001b[49m\u001b[43m)\u001b[49m\u001b[43m,\u001b[49m\u001b[43m \u001b[49m\u001b[43m*\u001b[49m\u001b[43m*\u001b[49m\u001b[43mkwargs\u001b[49m\u001b[43m)\u001b[49m\n",
      "\u001b[36mFile \u001b[39m\u001b[32m~\\anaconda3\\envs\\wif3009\\Lib\\site-packages\\praw\\reddit.py:963\u001b[39m, in \u001b[36mReddit.request\u001b[39m\u001b[34m(self, data, files, json, method, params, path)\u001b[39m\n\u001b[32m    961\u001b[39m     \u001b[38;5;28;01mraise\u001b[39;00m ClientException(msg)\n\u001b[32m    962\u001b[39m \u001b[38;5;28;01mtry\u001b[39;00m:\n\u001b[32m--> \u001b[39m\u001b[32m963\u001b[39m     \u001b[38;5;28;01mreturn\u001b[39;00m \u001b[38;5;28;43mself\u001b[39;49m\u001b[43m.\u001b[49m\u001b[43m_core\u001b[49m\u001b[43m.\u001b[49m\u001b[43mrequest\u001b[49m\u001b[43m(\u001b[49m\n\u001b[32m    964\u001b[39m \u001b[43m        \u001b[49m\u001b[43mdata\u001b[49m\u001b[43m=\u001b[49m\u001b[43mdata\u001b[49m\u001b[43m,\u001b[49m\n\u001b[32m    965\u001b[39m \u001b[43m        \u001b[49m\u001b[43mfiles\u001b[49m\u001b[43m=\u001b[49m\u001b[43mfiles\u001b[49m\u001b[43m,\u001b[49m\n\u001b[32m    966\u001b[39m \u001b[43m        \u001b[49m\u001b[43mjson\u001b[49m\u001b[43m=\u001b[49m\u001b[43mjson\u001b[49m\u001b[43m,\u001b[49m\n\u001b[32m    967\u001b[39m \u001b[43m        \u001b[49m\u001b[43mmethod\u001b[49m\u001b[43m=\u001b[49m\u001b[43mmethod\u001b[49m\u001b[43m,\u001b[49m\n\u001b[32m    968\u001b[39m \u001b[43m        \u001b[49m\u001b[43mparams\u001b[49m\u001b[43m=\u001b[49m\u001b[43mparams\u001b[49m\u001b[43m,\u001b[49m\n\u001b[32m    969\u001b[39m \u001b[43m        \u001b[49m\u001b[43mpath\u001b[49m\u001b[43m=\u001b[49m\u001b[43mpath\u001b[49m\u001b[43m,\u001b[49m\n\u001b[32m    970\u001b[39m \u001b[43m    \u001b[49m\u001b[43m)\u001b[49m\n\u001b[32m    971\u001b[39m \u001b[38;5;28;01mexcept\u001b[39;00m BadRequest \u001b[38;5;28;01mas\u001b[39;00m exception:\n\u001b[32m    972\u001b[39m     \u001b[38;5;28;01mtry\u001b[39;00m:\n",
      "\u001b[36mFile \u001b[39m\u001b[32m~\\anaconda3\\envs\\wif3009\\Lib\\site-packages\\prawcore\\sessions.py:328\u001b[39m, in \u001b[36mSession.request\u001b[39m\u001b[34m(self, method, path, data, files, json, params, timeout)\u001b[39m\n\u001b[32m    326\u001b[39m     json[\u001b[33m\"\u001b[39m\u001b[33mapi_type\u001b[39m\u001b[33m\"\u001b[39m] = \u001b[33m\"\u001b[39m\u001b[33mjson\u001b[39m\u001b[33m\"\u001b[39m\n\u001b[32m    327\u001b[39m url = urljoin(\u001b[38;5;28mself\u001b[39m._requestor.oauth_url, path)\n\u001b[32m--> \u001b[39m\u001b[32m328\u001b[39m \u001b[38;5;28;01mreturn\u001b[39;00m \u001b[38;5;28;43mself\u001b[39;49m\u001b[43m.\u001b[49m\u001b[43m_request_with_retries\u001b[49m\u001b[43m(\u001b[49m\n\u001b[32m    329\u001b[39m \u001b[43m    \u001b[49m\u001b[43mdata\u001b[49m\u001b[43m=\u001b[49m\u001b[43mdata\u001b[49m\u001b[43m,\u001b[49m\n\u001b[32m    330\u001b[39m \u001b[43m    \u001b[49m\u001b[43mfiles\u001b[49m\u001b[43m=\u001b[49m\u001b[43mfiles\u001b[49m\u001b[43m,\u001b[49m\n\u001b[32m    331\u001b[39m \u001b[43m    \u001b[49m\u001b[43mjson\u001b[49m\u001b[43m=\u001b[49m\u001b[43mjson\u001b[49m\u001b[43m,\u001b[49m\n\u001b[32m    332\u001b[39m \u001b[43m    \u001b[49m\u001b[43mmethod\u001b[49m\u001b[43m=\u001b[49m\u001b[43mmethod\u001b[49m\u001b[43m,\u001b[49m\n\u001b[32m    333\u001b[39m \u001b[43m    \u001b[49m\u001b[43mparams\u001b[49m\u001b[43m=\u001b[49m\u001b[43mparams\u001b[49m\u001b[43m,\u001b[49m\n\u001b[32m    334\u001b[39m \u001b[43m    \u001b[49m\u001b[43mtimeout\u001b[49m\u001b[43m=\u001b[49m\u001b[43mtimeout\u001b[49m\u001b[43m,\u001b[49m\n\u001b[32m    335\u001b[39m \u001b[43m    \u001b[49m\u001b[43murl\u001b[49m\u001b[43m=\u001b[49m\u001b[43murl\u001b[49m\u001b[43m,\u001b[49m\n\u001b[32m    336\u001b[39m \u001b[43m\u001b[49m\u001b[43m)\u001b[49m\n",
      "\u001b[36mFile \u001b[39m\u001b[32m~\\anaconda3\\envs\\wif3009\\Lib\\site-packages\\prawcore\\sessions.py:254\u001b[39m, in \u001b[36mSession._request_with_retries\u001b[39m\u001b[34m(self, data, files, json, method, params, timeout, url, retry_strategy_state)\u001b[39m\n\u001b[32m    249\u001b[39m         do_retry = \u001b[38;5;28;01mTrue\u001b[39;00m\n\u001b[32m    251\u001b[39m \u001b[38;5;28;01mif\u001b[39;00m retry_strategy_state.should_retry_on_failure() \u001b[38;5;129;01mand\u001b[39;00m (\n\u001b[32m    252\u001b[39m     do_retry \u001b[38;5;129;01mor\u001b[39;00m response \u001b[38;5;129;01mis\u001b[39;00m \u001b[38;5;28;01mNone\u001b[39;00m \u001b[38;5;129;01mor\u001b[39;00m response.status_code \u001b[38;5;129;01min\u001b[39;00m \u001b[38;5;28mself\u001b[39m.RETRY_STATUSES\n\u001b[32m    253\u001b[39m ):\n\u001b[32m--> \u001b[39m\u001b[32m254\u001b[39m     \u001b[38;5;28;01mreturn\u001b[39;00m \u001b[38;5;28;43mself\u001b[39;49m\u001b[43m.\u001b[49m\u001b[43m_do_retry\u001b[49m\u001b[43m(\u001b[49m\n\u001b[32m    255\u001b[39m \u001b[43m        \u001b[49m\u001b[43mdata\u001b[49m\u001b[43m,\u001b[49m\n\u001b[32m    256\u001b[39m \u001b[43m        \u001b[49m\u001b[43mfiles\u001b[49m\u001b[43m,\u001b[49m\n\u001b[32m    257\u001b[39m \u001b[43m        \u001b[49m\u001b[43mjson\u001b[49m\u001b[43m,\u001b[49m\n\u001b[32m    258\u001b[39m \u001b[43m        \u001b[49m\u001b[43mmethod\u001b[49m\u001b[43m,\u001b[49m\n\u001b[32m    259\u001b[39m \u001b[43m        \u001b[49m\u001b[43mparams\u001b[49m\u001b[43m,\u001b[49m\n\u001b[32m    260\u001b[39m \u001b[43m        \u001b[49m\u001b[43mresponse\u001b[49m\u001b[43m,\u001b[49m\n\u001b[32m    261\u001b[39m \u001b[43m        \u001b[49m\u001b[43mretry_strategy_state\u001b[49m\u001b[43m,\u001b[49m\n\u001b[32m    262\u001b[39m \u001b[43m        \u001b[49m\u001b[43msaved_exception\u001b[49m\u001b[43m,\u001b[49m\n\u001b[32m    263\u001b[39m \u001b[43m        \u001b[49m\u001b[43mtimeout\u001b[49m\u001b[43m,\u001b[49m\n\u001b[32m    264\u001b[39m \u001b[43m        \u001b[49m\u001b[43murl\u001b[49m\u001b[43m,\u001b[49m\n\u001b[32m    265\u001b[39m \u001b[43m    \u001b[49m\u001b[43m)\u001b[49m\n\u001b[32m    266\u001b[39m \u001b[38;5;28;01mif\u001b[39;00m response.status_code \u001b[38;5;129;01min\u001b[39;00m \u001b[38;5;28mself\u001b[39m.STATUS_EXCEPTIONS:\n\u001b[32m    267\u001b[39m     \u001b[38;5;28;01mraise\u001b[39;00m \u001b[38;5;28mself\u001b[39m.STATUS_EXCEPTIONS[response.status_code](response)\n",
      "\u001b[36mFile \u001b[39m\u001b[32m~\\anaconda3\\envs\\wif3009\\Lib\\site-packages\\prawcore\\sessions.py:162\u001b[39m, in \u001b[36mSession._do_retry\u001b[39m\u001b[34m(self, data, files, json, method, params, response, retry_strategy_state, saved_exception, timeout, url)\u001b[39m\n\u001b[32m    160\u001b[39m status = \u001b[38;5;28mrepr\u001b[39m(saved_exception) \u001b[38;5;28;01mif\u001b[39;00m saved_exception \u001b[38;5;28;01melse\u001b[39;00m response.status_code\n\u001b[32m    161\u001b[39m log.warning(\u001b[33m\"\u001b[39m\u001b[33mRetrying due to \u001b[39m\u001b[38;5;132;01m%s\u001b[39;00m\u001b[33m status: \u001b[39m\u001b[38;5;132;01m%s\u001b[39;00m\u001b[33m \u001b[39m\u001b[38;5;132;01m%s\u001b[39;00m\u001b[33m\"\u001b[39m, status, method, url)\n\u001b[32m--> \u001b[39m\u001b[32m162\u001b[39m \u001b[38;5;28;01mreturn\u001b[39;00m \u001b[38;5;28;43mself\u001b[39;49m\u001b[43m.\u001b[49m\u001b[43m_request_with_retries\u001b[49m\u001b[43m(\u001b[49m\n\u001b[32m    163\u001b[39m \u001b[43m    \u001b[49m\u001b[43mdata\u001b[49m\u001b[43m=\u001b[49m\u001b[43mdata\u001b[49m\u001b[43m,\u001b[49m\n\u001b[32m    164\u001b[39m \u001b[43m    \u001b[49m\u001b[43mfiles\u001b[49m\u001b[43m=\u001b[49m\u001b[43mfiles\u001b[49m\u001b[43m,\u001b[49m\n\u001b[32m    165\u001b[39m \u001b[43m    \u001b[49m\u001b[43mjson\u001b[49m\u001b[43m=\u001b[49m\u001b[43mjson\u001b[49m\u001b[43m,\u001b[49m\n\u001b[32m    166\u001b[39m \u001b[43m    \u001b[49m\u001b[43mmethod\u001b[49m\u001b[43m=\u001b[49m\u001b[43mmethod\u001b[49m\u001b[43m,\u001b[49m\n\u001b[32m    167\u001b[39m \u001b[43m    \u001b[49m\u001b[43mparams\u001b[49m\u001b[43m=\u001b[49m\u001b[43mparams\u001b[49m\u001b[43m,\u001b[49m\n\u001b[32m    168\u001b[39m \u001b[43m    \u001b[49m\u001b[43mtimeout\u001b[49m\u001b[43m=\u001b[49m\u001b[43mtimeout\u001b[49m\u001b[43m,\u001b[49m\n\u001b[32m    169\u001b[39m \u001b[43m    \u001b[49m\u001b[43murl\u001b[49m\u001b[43m=\u001b[49m\u001b[43murl\u001b[49m\u001b[43m,\u001b[49m\n\u001b[32m    170\u001b[39m \u001b[43m    \u001b[49m\u001b[43mretry_strategy_state\u001b[49m\u001b[43m=\u001b[49m\u001b[43mretry_strategy_state\u001b[49m\u001b[43m.\u001b[49m\u001b[43mconsume_available_retry\u001b[49m\u001b[43m(\u001b[49m\u001b[43m)\u001b[49m\u001b[43m,\u001b[49m\n\u001b[32m    171\u001b[39m \u001b[43m    \u001b[49m\u001b[38;5;66;43;03m# noqa: E501\u001b[39;49;00m\n\u001b[32m    172\u001b[39m \u001b[43m\u001b[49m\u001b[43m)\u001b[49m\n",
      "\u001b[36mFile \u001b[39m\u001b[32m~\\anaconda3\\envs\\wif3009\\Lib\\site-packages\\prawcore\\sessions.py:254\u001b[39m, in \u001b[36mSession._request_with_retries\u001b[39m\u001b[34m(self, data, files, json, method, params, timeout, url, retry_strategy_state)\u001b[39m\n\u001b[32m    249\u001b[39m         do_retry = \u001b[38;5;28;01mTrue\u001b[39;00m\n\u001b[32m    251\u001b[39m \u001b[38;5;28;01mif\u001b[39;00m retry_strategy_state.should_retry_on_failure() \u001b[38;5;129;01mand\u001b[39;00m (\n\u001b[32m    252\u001b[39m     do_retry \u001b[38;5;129;01mor\u001b[39;00m response \u001b[38;5;129;01mis\u001b[39;00m \u001b[38;5;28;01mNone\u001b[39;00m \u001b[38;5;129;01mor\u001b[39;00m response.status_code \u001b[38;5;129;01min\u001b[39;00m \u001b[38;5;28mself\u001b[39m.RETRY_STATUSES\n\u001b[32m    253\u001b[39m ):\n\u001b[32m--> \u001b[39m\u001b[32m254\u001b[39m     \u001b[38;5;28;01mreturn\u001b[39;00m \u001b[38;5;28;43mself\u001b[39;49m\u001b[43m.\u001b[49m\u001b[43m_do_retry\u001b[49m\u001b[43m(\u001b[49m\n\u001b[32m    255\u001b[39m \u001b[43m        \u001b[49m\u001b[43mdata\u001b[49m\u001b[43m,\u001b[49m\n\u001b[32m    256\u001b[39m \u001b[43m        \u001b[49m\u001b[43mfiles\u001b[49m\u001b[43m,\u001b[49m\n\u001b[32m    257\u001b[39m \u001b[43m        \u001b[49m\u001b[43mjson\u001b[49m\u001b[43m,\u001b[49m\n\u001b[32m    258\u001b[39m \u001b[43m        \u001b[49m\u001b[43mmethod\u001b[49m\u001b[43m,\u001b[49m\n\u001b[32m    259\u001b[39m \u001b[43m        \u001b[49m\u001b[43mparams\u001b[49m\u001b[43m,\u001b[49m\n\u001b[32m    260\u001b[39m \u001b[43m        \u001b[49m\u001b[43mresponse\u001b[49m\u001b[43m,\u001b[49m\n\u001b[32m    261\u001b[39m \u001b[43m        \u001b[49m\u001b[43mretry_strategy_state\u001b[49m\u001b[43m,\u001b[49m\n\u001b[32m    262\u001b[39m \u001b[43m        \u001b[49m\u001b[43msaved_exception\u001b[49m\u001b[43m,\u001b[49m\n\u001b[32m    263\u001b[39m \u001b[43m        \u001b[49m\u001b[43mtimeout\u001b[49m\u001b[43m,\u001b[49m\n\u001b[32m    264\u001b[39m \u001b[43m        \u001b[49m\u001b[43murl\u001b[49m\u001b[43m,\u001b[49m\n\u001b[32m    265\u001b[39m \u001b[43m    \u001b[49m\u001b[43m)\u001b[49m\n\u001b[32m    266\u001b[39m \u001b[38;5;28;01mif\u001b[39;00m response.status_code \u001b[38;5;129;01min\u001b[39;00m \u001b[38;5;28mself\u001b[39m.STATUS_EXCEPTIONS:\n\u001b[32m    267\u001b[39m     \u001b[38;5;28;01mraise\u001b[39;00m \u001b[38;5;28mself\u001b[39m.STATUS_EXCEPTIONS[response.status_code](response)\n",
      "\u001b[36mFile \u001b[39m\u001b[32m~\\anaconda3\\envs\\wif3009\\Lib\\site-packages\\prawcore\\sessions.py:162\u001b[39m, in \u001b[36mSession._do_retry\u001b[39m\u001b[34m(self, data, files, json, method, params, response, retry_strategy_state, saved_exception, timeout, url)\u001b[39m\n\u001b[32m    160\u001b[39m status = \u001b[38;5;28mrepr\u001b[39m(saved_exception) \u001b[38;5;28;01mif\u001b[39;00m saved_exception \u001b[38;5;28;01melse\u001b[39;00m response.status_code\n\u001b[32m    161\u001b[39m log.warning(\u001b[33m\"\u001b[39m\u001b[33mRetrying due to \u001b[39m\u001b[38;5;132;01m%s\u001b[39;00m\u001b[33m status: \u001b[39m\u001b[38;5;132;01m%s\u001b[39;00m\u001b[33m \u001b[39m\u001b[38;5;132;01m%s\u001b[39;00m\u001b[33m\"\u001b[39m, status, method, url)\n\u001b[32m--> \u001b[39m\u001b[32m162\u001b[39m \u001b[38;5;28;01mreturn\u001b[39;00m \u001b[38;5;28;43mself\u001b[39;49m\u001b[43m.\u001b[49m\u001b[43m_request_with_retries\u001b[49m\u001b[43m(\u001b[49m\n\u001b[32m    163\u001b[39m \u001b[43m    \u001b[49m\u001b[43mdata\u001b[49m\u001b[43m=\u001b[49m\u001b[43mdata\u001b[49m\u001b[43m,\u001b[49m\n\u001b[32m    164\u001b[39m \u001b[43m    \u001b[49m\u001b[43mfiles\u001b[49m\u001b[43m=\u001b[49m\u001b[43mfiles\u001b[49m\u001b[43m,\u001b[49m\n\u001b[32m    165\u001b[39m \u001b[43m    \u001b[49m\u001b[43mjson\u001b[49m\u001b[43m=\u001b[49m\u001b[43mjson\u001b[49m\u001b[43m,\u001b[49m\n\u001b[32m    166\u001b[39m \u001b[43m    \u001b[49m\u001b[43mmethod\u001b[49m\u001b[43m=\u001b[49m\u001b[43mmethod\u001b[49m\u001b[43m,\u001b[49m\n\u001b[32m    167\u001b[39m \u001b[43m    \u001b[49m\u001b[43mparams\u001b[49m\u001b[43m=\u001b[49m\u001b[43mparams\u001b[49m\u001b[43m,\u001b[49m\n\u001b[32m    168\u001b[39m \u001b[43m    \u001b[49m\u001b[43mtimeout\u001b[49m\u001b[43m=\u001b[49m\u001b[43mtimeout\u001b[49m\u001b[43m,\u001b[49m\n\u001b[32m    169\u001b[39m \u001b[43m    \u001b[49m\u001b[43murl\u001b[49m\u001b[43m=\u001b[49m\u001b[43murl\u001b[49m\u001b[43m,\u001b[49m\n\u001b[32m    170\u001b[39m \u001b[43m    \u001b[49m\u001b[43mretry_strategy_state\u001b[49m\u001b[43m=\u001b[49m\u001b[43mretry_strategy_state\u001b[49m\u001b[43m.\u001b[49m\u001b[43mconsume_available_retry\u001b[49m\u001b[43m(\u001b[49m\u001b[43m)\u001b[49m\u001b[43m,\u001b[49m\n\u001b[32m    171\u001b[39m \u001b[43m    \u001b[49m\u001b[38;5;66;43;03m# noqa: E501\u001b[39;49;00m\n\u001b[32m    172\u001b[39m \u001b[43m\u001b[49m\u001b[43m)\u001b[49m\n",
      "\u001b[36mFile \u001b[39m\u001b[32m~\\anaconda3\\envs\\wif3009\\Lib\\site-packages\\prawcore\\sessions.py:234\u001b[39m, in \u001b[36mSession._request_with_retries\u001b[39m\u001b[34m(self, data, files, json, method, params, timeout, url, retry_strategy_state)\u001b[39m\n\u001b[32m    232\u001b[39m retry_strategy_state.sleep()\n\u001b[32m    233\u001b[39m \u001b[38;5;28mself\u001b[39m._log_request(data, method, params, url)\n\u001b[32m--> \u001b[39m\u001b[32m234\u001b[39m response, saved_exception = \u001b[38;5;28;43mself\u001b[39;49m\u001b[43m.\u001b[49m\u001b[43m_make_request\u001b[49m\u001b[43m(\u001b[49m\n\u001b[32m    235\u001b[39m \u001b[43m    \u001b[49m\u001b[43mdata\u001b[49m\u001b[43m,\u001b[49m\n\u001b[32m    236\u001b[39m \u001b[43m    \u001b[49m\u001b[43mfiles\u001b[49m\u001b[43m,\u001b[49m\n\u001b[32m    237\u001b[39m \u001b[43m    \u001b[49m\u001b[43mjson\u001b[49m\u001b[43m,\u001b[49m\n\u001b[32m    238\u001b[39m \u001b[43m    \u001b[49m\u001b[43mmethod\u001b[49m\u001b[43m,\u001b[49m\n\u001b[32m    239\u001b[39m \u001b[43m    \u001b[49m\u001b[43mparams\u001b[49m\u001b[43m,\u001b[49m\n\u001b[32m    240\u001b[39m \u001b[43m    \u001b[49m\u001b[43mretry_strategy_state\u001b[49m\u001b[43m,\u001b[49m\n\u001b[32m    241\u001b[39m \u001b[43m    \u001b[49m\u001b[43mtimeout\u001b[49m\u001b[43m,\u001b[49m\n\u001b[32m    242\u001b[39m \u001b[43m    \u001b[49m\u001b[43murl\u001b[49m\u001b[43m,\u001b[49m\n\u001b[32m    243\u001b[39m \u001b[43m\u001b[49m\u001b[43m)\u001b[49m\n\u001b[32m    245\u001b[39m do_retry = \u001b[38;5;28;01mFalse\u001b[39;00m\n\u001b[32m    246\u001b[39m \u001b[38;5;28;01mif\u001b[39;00m response \u001b[38;5;129;01mis\u001b[39;00m \u001b[38;5;129;01mnot\u001b[39;00m \u001b[38;5;28;01mNone\u001b[39;00m \u001b[38;5;129;01mand\u001b[39;00m response.status_code == codes[\u001b[33m\"\u001b[39m\u001b[33munauthorized\u001b[39m\u001b[33m\"\u001b[39m]:\n",
      "\u001b[36mFile \u001b[39m\u001b[32m~\\anaconda3\\envs\\wif3009\\Lib\\site-packages\\prawcore\\sessions.py:186\u001b[39m, in \u001b[36mSession._make_request\u001b[39m\u001b[34m(self, data, files, json, method, params, retry_strategy_state, timeout, url)\u001b[39m\n\u001b[32m    174\u001b[39m \u001b[38;5;28;01mdef\u001b[39;00m\u001b[38;5;250m \u001b[39m\u001b[34m_make_request\u001b[39m(\n\u001b[32m    175\u001b[39m     \u001b[38;5;28mself\u001b[39m,\n\u001b[32m    176\u001b[39m     data: \u001b[38;5;28mlist\u001b[39m[\u001b[38;5;28mtuple\u001b[39m[\u001b[38;5;28mstr\u001b[39m, Any]],\n\u001b[32m   (...)\u001b[39m\u001b[32m    183\u001b[39m     url: \u001b[38;5;28mstr\u001b[39m,\n\u001b[32m    184\u001b[39m ) -> \u001b[38;5;28mtuple\u001b[39m[Response, \u001b[38;5;28;01mNone\u001b[39;00m] | \u001b[38;5;28mtuple\u001b[39m[\u001b[38;5;28;01mNone\u001b[39;00m, \u001b[38;5;167;01mException\u001b[39;00m]:\n\u001b[32m    185\u001b[39m     \u001b[38;5;28;01mtry\u001b[39;00m:\n\u001b[32m--> \u001b[39m\u001b[32m186\u001b[39m         response = \u001b[38;5;28;43mself\u001b[39;49m\u001b[43m.\u001b[49m\u001b[43m_rate_limiter\u001b[49m\u001b[43m.\u001b[49m\u001b[43mcall\u001b[49m\u001b[43m(\u001b[49m\n\u001b[32m    187\u001b[39m \u001b[43m            \u001b[49m\u001b[38;5;28;43mself\u001b[39;49m\u001b[43m.\u001b[49m\u001b[43m_requestor\u001b[49m\u001b[43m.\u001b[49m\u001b[43mrequest\u001b[49m\u001b[43m,\u001b[49m\n\u001b[32m    188\u001b[39m \u001b[43m            \u001b[49m\u001b[38;5;28;43mself\u001b[39;49m\u001b[43m.\u001b[49m\u001b[43m_set_header_callback\u001b[49m\u001b[43m,\u001b[49m\n\u001b[32m    189\u001b[39m \u001b[43m            \u001b[49m\u001b[43mmethod\u001b[49m\u001b[43m,\u001b[49m\n\u001b[32m    190\u001b[39m \u001b[43m            \u001b[49m\u001b[43murl\u001b[49m\u001b[43m,\u001b[49m\n\u001b[32m    191\u001b[39m \u001b[43m            \u001b[49m\u001b[43mallow_redirects\u001b[49m\u001b[43m=\u001b[49m\u001b[38;5;28;43;01mFalse\u001b[39;49;00m\u001b[43m,\u001b[49m\n\u001b[32m    192\u001b[39m \u001b[43m            \u001b[49m\u001b[43mdata\u001b[49m\u001b[43m=\u001b[49m\u001b[43mdata\u001b[49m\u001b[43m,\u001b[49m\n\u001b[32m    193\u001b[39m \u001b[43m            \u001b[49m\u001b[43mfiles\u001b[49m\u001b[43m=\u001b[49m\u001b[43mfiles\u001b[49m\u001b[43m,\u001b[49m\n\u001b[32m    194\u001b[39m \u001b[43m            \u001b[49m\u001b[43mjson\u001b[49m\u001b[43m=\u001b[49m\u001b[43mjson\u001b[49m\u001b[43m,\u001b[49m\n\u001b[32m    195\u001b[39m \u001b[43m            \u001b[49m\u001b[43mparams\u001b[49m\u001b[43m=\u001b[49m\u001b[43mparams\u001b[49m\u001b[43m,\u001b[49m\n\u001b[32m    196\u001b[39m \u001b[43m            \u001b[49m\u001b[43mtimeout\u001b[49m\u001b[43m=\u001b[49m\u001b[43mtimeout\u001b[49m\u001b[43m,\u001b[49m\n\u001b[32m    197\u001b[39m \u001b[43m        \u001b[49m\u001b[43m)\u001b[49m\n\u001b[32m    198\u001b[39m         log.debug(\n\u001b[32m    199\u001b[39m             \u001b[33m\"\u001b[39m\u001b[33mResponse: \u001b[39m\u001b[38;5;132;01m%s\u001b[39;00m\u001b[33m (\u001b[39m\u001b[38;5;132;01m%s\u001b[39;00m\u001b[33m bytes) (rst-\u001b[39m\u001b[38;5;132;01m%s\u001b[39;00m\u001b[33m:rem-\u001b[39m\u001b[38;5;132;01m%s\u001b[39;00m\u001b[33m:used-\u001b[39m\u001b[38;5;132;01m%s\u001b[39;00m\u001b[33m ratelimit) at \u001b[39m\u001b[38;5;132;01m%s\u001b[39;00m\u001b[33m\"\u001b[39m,\n\u001b[32m    200\u001b[39m             response.status_code,\n\u001b[32m   (...)\u001b[39m\u001b[32m    205\u001b[39m             time.time(),\n\u001b[32m    206\u001b[39m         )\n\u001b[32m    207\u001b[39m         \u001b[38;5;28;01mreturn\u001b[39;00m response, \u001b[38;5;28;01mNone\u001b[39;00m\n",
      "\u001b[36mFile \u001b[39m\u001b[32m~\\anaconda3\\envs\\wif3009\\Lib\\site-packages\\prawcore\\rate_limit.py:47\u001b[39m, in \u001b[36mRateLimiter.call\u001b[39m\u001b[34m(self, request_function, set_header_callback, *args, **kwargs)\u001b[39m\n\u001b[32m     45\u001b[39m \u001b[38;5;28mself\u001b[39m.delay()\n\u001b[32m     46\u001b[39m kwargs[\u001b[33m\"\u001b[39m\u001b[33mheaders\u001b[39m\u001b[33m\"\u001b[39m] = set_header_callback()\n\u001b[32m---> \u001b[39m\u001b[32m47\u001b[39m response = \u001b[43mrequest_function\u001b[49m\u001b[43m(\u001b[49m\u001b[43m*\u001b[49m\u001b[43margs\u001b[49m\u001b[43m,\u001b[49m\u001b[43m \u001b[49m\u001b[43m*\u001b[49m\u001b[43m*\u001b[49m\u001b[43mkwargs\u001b[49m\u001b[43m)\u001b[49m\n\u001b[32m     48\u001b[39m \u001b[38;5;28mself\u001b[39m.update(response.headers)\n\u001b[32m     49\u001b[39m \u001b[38;5;28;01mreturn\u001b[39;00m response\n",
      "\u001b[36mFile \u001b[39m\u001b[32m~\\anaconda3\\envs\\wif3009\\Lib\\site-packages\\prawcore\\requestor.py:70\u001b[39m, in \u001b[36mRequestor.request\u001b[39m\u001b[34m(self, timeout, *args, **kwargs)\u001b[39m\n\u001b[32m     68\u001b[39m     \u001b[38;5;28;01mreturn\u001b[39;00m \u001b[38;5;28mself\u001b[39m._http.request(*args, timeout=timeout \u001b[38;5;129;01mor\u001b[39;00m \u001b[38;5;28mself\u001b[39m.timeout, **kwargs)\n\u001b[32m     69\u001b[39m \u001b[38;5;28;01mexcept\u001b[39;00m \u001b[38;5;167;01mException\u001b[39;00m \u001b[38;5;28;01mas\u001b[39;00m exc:  \u001b[38;5;66;03m# noqa: BLE001\u001b[39;00m\n\u001b[32m---> \u001b[39m\u001b[32m70\u001b[39m     \u001b[38;5;28;01mraise\u001b[39;00m RequestException(exc, args, kwargs) \u001b[38;5;28;01mfrom\u001b[39;00m\u001b[38;5;250m \u001b[39m\u001b[38;5;28;01mNone\u001b[39;00m\n",
      "\u001b[31mRequestException\u001b[39m: error with request HTTPSConnectionPool(host='oauth.reddit.com', port=443): Max retries exceeded with url: /api/morechildren/?raw_json=1 (Caused by NameResolutionError(\"<urllib3.connection.HTTPSConnection object at 0x00000295778EC310>: Failed to resolve 'oauth.reddit.com' ([Errno 11001] getaddrinfo failed)\"))"
     ]
    }
   ],
   "source": [
    "import praw\n",
    "from textblob import TextBlob\n",
    "\n",
    "APP_NAME = \"MemecoinAnalysisScript\"\n",
    "APP_VERSION = \"v0.2\"\n",
    "REDDIT_USERNAME = \"Successful_Cat_6509\"\n",
    "reddit = praw.Reddit(\n",
    "    client_id='1Z9QJVRYeyqdDPGmTfFuOg',\n",
    "    client_secret='pKtQCeehtl8-LfNUgTO9llxZjXx5iw',\n",
    "    user_agent= f\"{APP_NAME}/{APP_VERSION} (by /u/{REDDIT_USERNAME})\"\n",
    ")\n",
    "\n",
    "subreddit = reddit.subreddit('CryptoCurrency')\n",
    "sentiment_data = []\n",
    "\n",
    "for post in subreddit.search('Shiba Inu', limit=100):\n",
    "    text = post.title + \" \" + post.selftext\n",
    "    sentiment = TextBlob(text).sentiment\n",
    "    sentiment_data.append({\n",
    "        'platform': 'Reddit',\n",
    "        'subreddit': 'CryptoCurrency',\n",
    "        'created_utc': post.created_utc,\n",
    "        'text': text,\n",
    "        'polarity': sentiment.polarity,\n",
    "        'subjectivity': sentiment.subjectivity\n",
    "    })\n",
    "    post.comments.replace_more(limit=None)\n",
    "    for comment in post.comments:\n",
    "        sentiment = TextBlob(comment.body).sentiment\n",
    "        sentiment_data.append({\n",
    "            'platform': 'Reddit',\n",
    "            'subreddit': 'CryptoCurrency',\n",
    "            'created_utc': comment.created_utc,\n",
    "            'text': comment.body,\n",
    "            'polarity': sentiment.polarity,\n",
    "            'subjectivity': sentiment.subjectivity\n",
    "        })\n",
    "\n",
    "df_reddit_sentiment = pd.DataFrame(sentiment_data)\n",
    "print(df_reddit_sentiment.head)"
   ]
  },
  {
   "cell_type": "code",
   "execution_count": null,
   "id": "373fda9a-0c09-4ac7-ae62-c41f108f94a2",
   "metadata": {},
   "outputs": [],
   "source": [
    "import praw\n",
    "\n",
    "APP_NAME = \"MemecoinAnalysisScript\"\n",
    "APP_VERSION = \"v0.2\"\n",
    "REDDIT_USERNAME = \"Successful_Cat_6509\"\n",
    "reddit = praw.Reddit(\n",
    "    client_id='1Z9QJVRYeyqdDPGmTfFuOg',\n",
    "    client_secret='pKtQCeehtl8-LfNUgTO9llxZjXx5iw',\n",
    "    user_agent= f\"{APP_NAME}/{APP_VERSION} (by /u/{REDDIT_USERNAME})\"\n",
    ")\n",
    "\n",
    "subreddit = reddit.subreddit('CryptoCurrency')\n",
    "print(subreddit.display_name)"
   ]
  },
  {
   "cell_type": "code",
   "execution_count": null,
   "id": "08864791-2800-444d-8da2-512376785b75",
   "metadata": {},
   "outputs": [],
   "source": []
  },
  {
   "cell_type": "markdown",
   "id": "53762ce4-9039-4b30-8e93-d8399916b29a",
   "metadata": {},
   "source": [
    "**Google**"
   ]
  },
  {
   "cell_type": "code",
   "execution_count": 7,
   "id": "30d8bcf6-a795-4c5e-8478-fdcf89f2773a",
   "metadata": {},
   "outputs": [
    {
     "name": "stdout",
     "output_type": "stream",
     "text": [
      "Collecting pytrends\n",
      "  Downloading pytrends-4.9.2-py3-none-any.whl.metadata (13 kB)\n",
      "Requirement already satisfied: requests>=2.0 in c:\\users\\den51\\anaconda3\\envs\\wif3009\\lib\\site-packages (from pytrends) (2.32.3)\n",
      "Requirement already satisfied: pandas>=0.25 in c:\\users\\den51\\anaconda3\\envs\\wif3009\\lib\\site-packages (from pytrends) (2.2.3)\n",
      "Collecting lxml (from pytrends)\n",
      "  Downloading lxml-5.4.0-cp311-cp311-win_amd64.whl.metadata (3.6 kB)\n",
      "Requirement already satisfied: numpy>=1.23.2 in c:\\users\\den51\\anaconda3\\envs\\wif3009\\lib\\site-packages (from pandas>=0.25->pytrends) (2.2.2)\n",
      "Requirement already satisfied: python-dateutil>=2.8.2 in c:\\users\\den51\\appdata\\roaming\\python\\python311\\site-packages (from pandas>=0.25->pytrends) (2.9.0.post0)\n",
      "Requirement already satisfied: pytz>=2020.1 in c:\\users\\den51\\anaconda3\\envs\\wif3009\\lib\\site-packages (from pandas>=0.25->pytrends) (2025.2)\n",
      "Requirement already satisfied: tzdata>=2022.7 in c:\\users\\den51\\anaconda3\\envs\\wif3009\\lib\\site-packages (from pandas>=0.25->pytrends) (2025.2)\n",
      "Requirement already satisfied: charset-normalizer<4,>=2 in c:\\users\\den51\\anaconda3\\envs\\wif3009\\lib\\site-packages (from requests>=2.0->pytrends) (3.4.1)\n",
      "Requirement already satisfied: idna<4,>=2.5 in c:\\users\\den51\\anaconda3\\envs\\wif3009\\lib\\site-packages (from requests>=2.0->pytrends) (3.10)\n",
      "Requirement already satisfied: urllib3<3,>=1.21.1 in c:\\users\\den51\\anaconda3\\envs\\wif3009\\lib\\site-packages (from requests>=2.0->pytrends) (2.3.0)\n",
      "Requirement already satisfied: certifi>=2017.4.17 in c:\\users\\den51\\anaconda3\\envs\\wif3009\\lib\\site-packages (from requests>=2.0->pytrends) (2025.1.31)\n",
      "Requirement already satisfied: six>=1.5 in c:\\users\\den51\\appdata\\roaming\\python\\python311\\site-packages (from python-dateutil>=2.8.2->pandas>=0.25->pytrends) (1.17.0)\n",
      "Downloading pytrends-4.9.2-py3-none-any.whl (15 kB)\n",
      "Downloading lxml-5.4.0-cp311-cp311-win_amd64.whl (3.8 MB)\n",
      "   ---------------------------------------- 0.0/3.8 MB ? eta -:--:--\n",
      "   -- ------------------------------------- 0.3/3.8 MB ? eta -:--:--\n",
      "   -- ------------------------------------- 0.3/3.8 MB ? eta -:--:--\n",
      "   ----- ---------------------------------- 0.5/3.8 MB 985.5 kB/s eta 0:00:04\n",
      "   -------- ------------------------------- 0.8/3.8 MB 1.1 MB/s eta 0:00:03\n",
      "   ---------- ----------------------------- 1.0/3.8 MB 1.1 MB/s eta 0:00:03\n",
      "   ------------- -------------------------- 1.3/3.8 MB 1.1 MB/s eta 0:00:03\n",
      "   ------------------- -------------------- 1.8/3.8 MB 1.3 MB/s eta 0:00:02\n",
      "   ------------------- -------------------- 1.8/3.8 MB 1.3 MB/s eta 0:00:02\n",
      "   ------------------- -------------------- 1.8/3.8 MB 1.3 MB/s eta 0:00:02\n",
      "   ------------------- -------------------- 1.8/3.8 MB 1.3 MB/s eta 0:00:02\n",
      "   ------------------- -------------------- 1.8/3.8 MB 1.3 MB/s eta 0:00:02\n",
      "   ------------------- -------------------- 1.8/3.8 MB 1.3 MB/s eta 0:00:02\n",
      "   ------------------- -------------------- 1.8/3.8 MB 1.3 MB/s eta 0:00:02\n",
      "   ------------------- -------------------- 1.8/3.8 MB 1.3 MB/s eta 0:00:02\n",
      "   ------------------- -------------------- 1.8/3.8 MB 1.3 MB/s eta 0:00:02\n",
      "   --------------------- ------------------ 2.1/3.8 MB 584.2 kB/s eta 0:00:03\n",
      "   --------------------- ------------------ 2.1/3.8 MB 584.2 kB/s eta 0:00:03\n",
      "   --------------------- ------------------ 2.1/3.8 MB 584.2 kB/s eta 0:00:03\n",
      "   ------------------------ --------------- 2.4/3.8 MB 576.0 kB/s eta 0:00:03\n",
      "   ------------------------ --------------- 2.4/3.8 MB 576.0 kB/s eta 0:00:03\n",
      "   --------------------------- ------------ 2.6/3.8 MB 572.0 kB/s eta 0:00:03\n",
      "   --------------------------- ------------ 2.6/3.8 MB 572.0 kB/s eta 0:00:03\n",
      "   ------------------------------ --------- 2.9/3.8 MB 570.6 kB/s eta 0:00:02\n",
      "   ------------------------------ --------- 2.9/3.8 MB 570.6 kB/s eta 0:00:02\n",
      "   ------------------------------ --------- 2.9/3.8 MB 570.6 kB/s eta 0:00:02\n",
      "   ------------------------------ --------- 2.9/3.8 MB 570.6 kB/s eta 0:00:02\n",
      "   -------------------------------- ------- 3.1/3.8 MB 531.8 kB/s eta 0:00:02\n",
      "   -------------------------------- ------- 3.1/3.8 MB 531.8 kB/s eta 0:00:02\n",
      "   ----------------------------------- ---- 3.4/3.8 MB 544.1 kB/s eta 0:00:01\n",
      "   ----------------------------------- ---- 3.4/3.8 MB 544.1 kB/s eta 0:00:01\n",
      "   -------------------------------------- - 3.7/3.8 MB 549.4 kB/s eta 0:00:01\n",
      "   ---------------------------------------- 3.8/3.8 MB 549.2 kB/s eta 0:00:00\n",
      "Installing collected packages: lxml, pytrends\n",
      "Successfully installed lxml-5.4.0 pytrends-4.9.2\n"
     ]
    }
   ],
   "source": [
    "! pip install pytrends"
   ]
  },
  {
   "cell_type": "code",
   "execution_count": 11,
   "id": "689dbbc9-9b40-4016-b3c8-b958cf2c0663",
   "metadata": {
    "collapsed": true,
    "jupyter": {
     "outputs_hidden": true
    }
   },
   "outputs": [
    {
     "name": "stdout",
     "output_type": "stream",
     "text": [
      "            Dogecoin  isPartial\n",
      "date                           \n",
      "2025-01-23        96      False\n",
      "2025-01-24        83      False\n",
      "2025-01-25        77      False\n",
      "2025-01-26        76      False\n",
      "2025-01-27        84      False\n"
     ]
    },
    {
     "name": "stderr",
     "output_type": "stream",
     "text": [
      "C:\\Users\\den51\\anaconda3\\envs\\wif3009\\Lib\\site-packages\\pytrends\\request.py:260: FutureWarning: Downcasting object dtype arrays on .fillna, .ffill, .bfill is deprecated and will change in a future version. Call result.infer_objects(copy=False) instead. To opt-in to the future behavior, set `pd.set_option('future.no_silent_downcasting', True)`\n",
      "  df = df.fillna(False)\n"
     ]
    }
   ],
   "source": [
    "import time\n",
    "from pytrends.request import TrendReq\n",
    "\n",
    "def safe_trend_request(keywords, retries=3, wait=60):\n",
    "    for i in range(retries):\n",
    "        try:\n",
    "            pytrends = TrendReq(hl='en-US', tz=360)\n",
    "            pytrends.build_payload(keywords, timeframe='today 3-m')\n",
    "            return pytrends.interest_over_time()\n",
    "        except Exception as e:\n",
    "            print(f\"Attempt {i+1} failed: {e}\")\n",
    "            time.sleep(wait)\n",
    "    return None\n",
    "\n",
    "data = safe_trend_request(['Dogecoin'])\n",
    "print(data.head(5))"
   ]
  },
  {
   "cell_type": "markdown",
   "id": "401ef29b-83b1-4efe-8770-286b3532bd23",
   "metadata": {},
   "source": [
    "**Sentiment Test**"
   ]
  },
  {
   "cell_type": "code",
   "execution_count": null,
   "id": "4d8cae78-3f38-446a-8a94-869fc9b93519",
   "metadata": {},
   "outputs": [],
   "source": []
  },
  {
   "cell_type": "code",
   "execution_count": 6,
   "id": "8f647f2b-440e-4c14-a967-a0e4f873e02b",
   "metadata": {},
   "outputs": [
    {
     "name": "stdout",
     "output_type": "stream",
     "text": [
      "                                                text sentiment\n",
      "0  Dogecoin may have outgrown its reliance on Elo...  positive\n",
      "1  @Tesla @elonmusk Dogecoin set the standard; $M...  positive\n",
      "2  @jk_rowling @dogecoin_empire Oh, how I love co...  positive\n",
      "3  RT @Unocoin: Hey folks, #doge and #SHIB is fin...   neutral\n",
      "4  🚀 Dogecoin is at it again! Could we see a 24% ...   neutral\n",
      "\n",
      "Sentiment Counts:\n",
      "sentiment\n",
      "neutral     53\n",
      "positive    40\n",
      "negative     7\n",
      "Name: count, dtype: int64\n"
     ]
    }
   ],
   "source": [
    "import pandas as pd\n",
    "from nltk.sentiment.vader import SentimentIntensityAnalyzer\n",
    "import nltk\n",
    "\n",
    "# Download VADER lexicon if you haven't already\n",
    "try:\n",
    "    nltk.data.find('sentiment/vader_lexicon.zip')\n",
    "except nltk.downloader.DownloadError:\n",
    "    nltk.download('vader_lexicon')\n",
    "\n",
    "def analyze_sentiment(text):\n",
    "    \"\"\"\n",
    "    Analyzes the sentiment of a given text using VADER.\n",
    "    Returns 'positive', 'negative', or 'neutral'.\n",
    "    \"\"\"\n",
    "    analyzer = SentimentIntensityAnalyzer()\n",
    "    vs = analyzer.polarity_scores(text)\n",
    "\n",
    "    # Determine sentiment based on compound score\n",
    "    if vs['compound'] >= 0.05:\n",
    "        return 'positive'\n",
    "    elif vs['compound'] <= -0.05:\n",
    "        return 'negative'\n",
    "    else:\n",
    "        return 'neutral'\n",
    "\n",
    "# Load the Twitter data CSV file\n",
    "try:\n",
    "    df_twitter = pd.read_csv('twitter_data.csv')\n",
    "except FileNotFoundError:\n",
    "    print(\"Error: 'twitter_data.csv' not found. Make sure the file is in the correct directory.\")\n",
    "    exit()\n",
    "\n",
    "# Check if the 'text' column exists\n",
    "if 'text' not in df_twitter.columns:\n",
    "    print(\"Error: The CSV file does not contain a 'text' column.\")\n",
    "    exit()\n",
    "\n",
    "# Apply sentiment analysis to the 'text' column\n",
    "df_twitter['sentiment'] = df_twitter['text'].apply(analyze_sentiment)\n",
    "\n",
    "# Print the first few rows with the sentiment\n",
    "print(df_twitter[['text', 'sentiment']].head())\n",
    "\n",
    "# You can also get counts of each sentiment\n",
    "sentiment_counts = df_twitter['sentiment'].value_counts()\n",
    "print(\"\\nSentiment Counts:\")\n",
    "print(sentiment_counts)"
   ]
  },
  {
   "cell_type": "code",
   "execution_count": 5,
   "id": "21c1d059-bf6f-4104-b677-77f1d23fb691",
   "metadata": {},
   "outputs": [
    {
     "name": "stderr",
     "output_type": "stream",
     "text": [
      "[nltk_data] Downloading package vader_lexicon to\n",
      "[nltk_data]     C:\\Users\\den51\\AppData\\Roaming\\nltk_data...\n"
     ]
    },
    {
     "data": {
      "text/plain": [
       "True"
      ]
     },
     "execution_count": 5,
     "metadata": {},
     "output_type": "execute_result"
    }
   ],
   "source": [
    "import nltk\n",
    "nltk.download('vader_lexicon')"
   ]
  },
  {
   "cell_type": "markdown",
   "id": "d31ee09f-2045-49b4-854d-e783bbb4cf0b",
   "metadata": {},
   "source": [
    "**Visualization**"
   ]
  },
  {
   "cell_type": "code",
   "execution_count": 13,
   "id": "0312ef93-1fed-4836-9936-13eb81a78830",
   "metadata": {},
   "outputs": [
    {
     "name": "stdout",
     "output_type": "stream",
     "text": [
      "Processing: dogecoin_data.csv\n"
     ]
    },
    {
     "data": {
      "image/png": "[encoded data removed]",
      "text/plain": [
       "<Figure size 1200x600 with 1 Axes>"
      ]
     },
     "metadata": {},
     "output_type": "display_data"
    },
    {
     "name": "stdout",
     "output_type": "stream",
     "text": [
      "Processing: shiba-inu_data.csv\n"
     ]
    },
    {
     "data": {
      "image/png": "[encoded data removed]",
      "text/plain": [
       "<Figure size 1200x600 with 1 Axes>"
      ]
     },
     "metadata": {},
     "output_type": "display_data"
    },
    {
     "name": "stdout",
     "output_type": "stream",
     "text": [
      "Processing: twitter_data.csv\n",
      "Error: 'twitter_data.csv' does not contain a 'Timestamp' or 'Timestamp_ms' column. Skipping.\n"
     ]
    }
   ],
   "source": [
    "import pandas as pd\n",
    "import matplotlib.pyplot as plt\n",
    "import glob\n",
    "\n",
    "def plot_price_over_time(csv_file):\n",
    "    \"\"\"Reads a CSV file, extracts timestamp and price, and plots the price over time in a separate figure.\"\"\"\n",
    "    try:\n",
    "        df = pd.read_csv(csv_file)\n",
    "        if 'Timestamp' in df.columns:\n",
    "            df['Timestamp'] = pd.to_datetime(df['Timestamp'])\n",
    "            df.set_index('Timestamp', inplace=True)\n",
    "        elif 'Timestamp_ms' in df.columns:\n",
    "            df['Timestamp'] = pd.to_datetime(df['Timestamp_ms'] / 1000, unit='s')\n",
    "            df.set_index('Timestamp', inplace=True)\n",
    "            df.drop(columns=['Timestamp_ms'], inplace=True, errors='ignore')\n",
    "        else:\n",
    "            print(f\"Error: '{csv_file}' does not contain a 'Timestamp' or 'Timestamp_ms' column. Skipping.\")\n",
    "            return\n",
    "\n",
    "        if 'Price_USD' in df.columns:\n",
    "            plt.figure(figsize=(12, 6))\n",
    "            plt.plot(df.index, df['Price_USD'], label=csv_file, linewidth=1)\n",
    "            plt.xlabel('Timestamp')\n",
    "            plt.ylabel('Price (USD)')\n",
    "            plt.title(f'Price Over Time for {csv_file}')\n",
    "            plt.legend()\n",
    "            plt.grid(True)\n",
    "            plt.show()  # Show the plot for each file immediately\n",
    "        else:\n",
    "            print(f\"Error: '{csv_file}' does not contain a 'Price_USD' column. Skipping.\")\n",
    "            return\n",
    "\n",
    "    except FileNotFoundError:\n",
    "        print(f\"Error: '{csv_file}' not found. Make sure the file is in the correct directory.\")\n",
    "    except Exception as e:\n",
    "        print(f\"An error occurred while reading '{csv_file}': {e}\")\n",
    "\n",
    "if __name__ == \"__main__\":\n",
    "    # Specify the pattern to match your CSV files\n",
    "    csv_pattern = '*.csv'\n",
    "    csv_files = glob.glob(csv_pattern)\n",
    "\n",
    "    if not csv_files:\n",
    "        print(f\"No CSV files found matching the pattern '{csv_pattern}' in the current directory.\")\n",
    "    else:\n",
    "        for file in csv_files:\n",
    "            print(f\"Processing: {file}\")\n",
    "            plot_price_over_time(file)\n",
    "\n",
    "    # Alternatively, to plot specific files:\n",
    "    # csv_files = ['dogecoin_data.csv', 'shiba-inu_data.csv']\n",
    "    # for file in csv_files:\n",
    "    #     plot_price_over_time(file)"
   ]
  },
  {
   "cell_type": "code",
   "execution_count": null,
   "id": "3b2056f3-655c-471f-bbde-9360d74aeb01",
   "metadata": {},
   "outputs": [],
   "source": [
    "tets"
   ]
  }
 ],
 "metadata": {
  "kernelspec": {
   "display_name": "Python 3 (ipykernel)",
   "language": "python",
   "name": "python3"
  },
  "language_info": {
   "codemirror_mode": {
    "name": "ipython",
    "version": 3
   },
   "file_extension": ".py",
   "mimetype": "text/x-python",
   "name": "python",
   "nbconvert_exporter": "python",
   "pygments_lexer": "ipython3",
   "version": "3.11.11"
  }
 },
 "nbformat": 4,
 "nbformat_minor": 5
}
